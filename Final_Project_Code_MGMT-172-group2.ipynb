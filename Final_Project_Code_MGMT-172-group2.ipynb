{
 "cells": [
  {
   "cell_type": "markdown",
   "id": "1aeb76dd",
   "metadata": {},
   "source": [
    "Here is the code for our MGMT-172 project. We used various stock analysis techiques to find data regarding Kroger acquisitions. In the code block below is all the imports neccessary to generate the plots we used. If you are having trouble you might not have downloaded a requirement in pip. Additionally, the time objects are created in the block below."
   ]
  },
  {
   "cell_type": "code",
   "execution_count": 57,
   "id": "09bec989",
   "metadata": {},
   "outputs": [],
   "source": [
    "#Imports\n",
    "#!pip install yfinance\n",
    "#!pip install fix_yahoo_finance\n",
    "#!pip install plotly-express\n",
    "import pandas as pd\n",
    "import seaborn as sns\n",
    "import numpy as np\n",
    "import pylab as py\n",
    "import matplotlib.pyplot as plt\n",
    "import yfinance as yf\n",
    "#from yahoofinancials import YahooFinancials\n",
    "pd.core.common.is_list_like = pd.api.types.is_list_like\n",
    "from pandas_datareader import data, wb\n",
    "import plotly.express as px\n",
    "\n",
    "import datetime\n",
    "from datetime import date\n",
    "%matplotlib inline\n",
    "\n",
    "start = datetime.datetime(2020, 1, 1)\n",
    "\n",
    "end = date.today()"
   ]
  },
  {
   "cell_type": "markdown",
   "id": "a9340e20",
   "metadata": {},
   "source": [
    "This is a dataset generated from Yahoo Finance using the time frame."
   ]
  },
  {
   "cell_type": "code",
   "execution_count": 2,
   "id": "543c28a4",
   "metadata": {},
   "outputs": [
    {
     "data": {
      "text/html": [
       "<div>\n",
       "<style scoped>\n",
       "    .dataframe tbody tr th:only-of-type {\n",
       "        vertical-align: middle;\n",
       "    }\n",
       "\n",
       "    .dataframe tbody tr th {\n",
       "        vertical-align: top;\n",
       "    }\n",
       "\n",
       "    .dataframe thead tr th {\n",
       "        text-align: left;\n",
       "    }\n",
       "\n",
       "    .dataframe thead tr:last-of-type th {\n",
       "        text-align: right;\n",
       "    }\n",
       "</style>\n",
       "<table border=\"1\" class=\"dataframe\">\n",
       "  <thead>\n",
       "    <tr>\n",
       "      <th>Attributes</th>\n",
       "      <th colspan=\"5\" halign=\"left\">Adj Close</th>\n",
       "      <th colspan=\"5\" halign=\"left\">Close</th>\n",
       "      <th>...</th>\n",
       "      <th colspan=\"5\" halign=\"left\">Open</th>\n",
       "      <th colspan=\"5\" halign=\"left\">Volume</th>\n",
       "    </tr>\n",
       "    <tr>\n",
       "      <th>Symbols</th>\n",
       "      <th>WMT</th>\n",
       "      <th>TGT</th>\n",
       "      <th>COST</th>\n",
       "      <th>KR</th>\n",
       "      <th>ACI</th>\n",
       "      <th>WMT</th>\n",
       "      <th>TGT</th>\n",
       "      <th>COST</th>\n",
       "      <th>KR</th>\n",
       "      <th>ACI</th>\n",
       "      <th>...</th>\n",
       "      <th>WMT</th>\n",
       "      <th>TGT</th>\n",
       "      <th>COST</th>\n",
       "      <th>KR</th>\n",
       "      <th>ACI</th>\n",
       "      <th>WMT</th>\n",
       "      <th>TGT</th>\n",
       "      <th>COST</th>\n",
       "      <th>KR</th>\n",
       "      <th>ACI</th>\n",
       "    </tr>\n",
       "    <tr>\n",
       "      <th>Date</th>\n",
       "      <th></th>\n",
       "      <th></th>\n",
       "      <th></th>\n",
       "      <th></th>\n",
       "      <th></th>\n",
       "      <th></th>\n",
       "      <th></th>\n",
       "      <th></th>\n",
       "      <th></th>\n",
       "      <th></th>\n",
       "      <th></th>\n",
       "      <th></th>\n",
       "      <th></th>\n",
       "      <th></th>\n",
       "      <th></th>\n",
       "      <th></th>\n",
       "      <th></th>\n",
       "      <th></th>\n",
       "      <th></th>\n",
       "      <th></th>\n",
       "      <th></th>\n",
       "    </tr>\n",
       "  </thead>\n",
       "  <tbody>\n",
       "    <tr>\n",
       "      <th>2020-01-02</th>\n",
       "      <td>113.801064</td>\n",
       "      <td>119.371849</td>\n",
       "      <td>277.666962</td>\n",
       "      <td>26.969685</td>\n",
       "      <td>NaN</td>\n",
       "      <td>118.940002</td>\n",
       "      <td>126.070000</td>\n",
       "      <td>291.489990</td>\n",
       "      <td>28.660000</td>\n",
       "      <td>NaN</td>\n",
       "      <td>...</td>\n",
       "      <td>118.860001</td>\n",
       "      <td>128.740005</td>\n",
       "      <td>294.059998</td>\n",
       "      <td>29.030001</td>\n",
       "      <td>NaN</td>\n",
       "      <td>6764900.0</td>\n",
       "      <td>5149800.0</td>\n",
       "      <td>2103600.0</td>\n",
       "      <td>6224900.0</td>\n",
       "      <td>NaN</td>\n",
       "    </tr>\n",
       "    <tr>\n",
       "      <th>2020-01-03</th>\n",
       "      <td>112.796432</td>\n",
       "      <td>118.131432</td>\n",
       "      <td>277.895599</td>\n",
       "      <td>27.007322</td>\n",
       "      <td>NaN</td>\n",
       "      <td>117.889999</td>\n",
       "      <td>124.760002</td>\n",
       "      <td>291.730011</td>\n",
       "      <td>28.700001</td>\n",
       "      <td>NaN</td>\n",
       "      <td>...</td>\n",
       "      <td>118.269997</td>\n",
       "      <td>124.660004</td>\n",
       "      <td>290.049988</td>\n",
       "      <td>28.480000</td>\n",
       "      <td>NaN</td>\n",
       "      <td>5399200.0</td>\n",
       "      <td>5018500.0</td>\n",
       "      <td>1926000.0</td>\n",
       "      <td>5442000.0</td>\n",
       "      <td>NaN</td>\n",
       "    </tr>\n",
       "    <tr>\n",
       "      <th>2020-01-06</th>\n",
       "      <td>112.566818</td>\n",
       "      <td>117.014145</td>\n",
       "      <td>277.971832</td>\n",
       "      <td>27.101427</td>\n",
       "      <td>NaN</td>\n",
       "      <td>117.650002</td>\n",
       "      <td>123.580002</td>\n",
       "      <td>291.809998</td>\n",
       "      <td>28.799999</td>\n",
       "      <td>NaN</td>\n",
       "      <td>...</td>\n",
       "      <td>117.400002</td>\n",
       "      <td>123.970001</td>\n",
       "      <td>290.549988</td>\n",
       "      <td>28.570000</td>\n",
       "      <td>NaN</td>\n",
       "      <td>6445500.0</td>\n",
       "      <td>4226900.0</td>\n",
       "      <td>2655100.0</td>\n",
       "      <td>6929600.0</td>\n",
       "      <td>NaN</td>\n",
       "    </tr>\n",
       "    <tr>\n",
       "      <th>2020-01-07</th>\n",
       "      <td>111.523895</td>\n",
       "      <td>117.222443</td>\n",
       "      <td>277.533661</td>\n",
       "      <td>26.903812</td>\n",
       "      <td>NaN</td>\n",
       "      <td>116.559998</td>\n",
       "      <td>123.800003</td>\n",
       "      <td>291.350006</td>\n",
       "      <td>28.590000</td>\n",
       "      <td>NaN</td>\n",
       "      <td>...</td>\n",
       "      <td>117.260002</td>\n",
       "      <td>123.000000</td>\n",
       "      <td>291.320007</td>\n",
       "      <td>28.719999</td>\n",
       "      <td>NaN</td>\n",
       "      <td>6846900.0</td>\n",
       "      <td>3641600.0</td>\n",
       "      <td>1963400.0</td>\n",
       "      <td>5882200.0</td>\n",
       "      <td>NaN</td>\n",
       "    </tr>\n",
       "    <tr>\n",
       "      <th>2020-01-08</th>\n",
       "      <td>111.141190</td>\n",
       "      <td>116.843712</td>\n",
       "      <td>280.715240</td>\n",
       "      <td>26.743837</td>\n",
       "      <td>NaN</td>\n",
       "      <td>116.160004</td>\n",
       "      <td>123.400002</td>\n",
       "      <td>294.690002</td>\n",
       "      <td>28.420000</td>\n",
       "      <td>NaN</td>\n",
       "      <td>...</td>\n",
       "      <td>116.300003</td>\n",
       "      <td>124.050003</td>\n",
       "      <td>290.989990</td>\n",
       "      <td>28.709999</td>\n",
       "      <td>NaN</td>\n",
       "      <td>5875800.0</td>\n",
       "      <td>5731600.0</td>\n",
       "      <td>2492800.0</td>\n",
       "      <td>7341600.0</td>\n",
       "      <td>NaN</td>\n",
       "    </tr>\n",
       "    <tr>\n",
       "      <th>2020-01-09</th>\n",
       "      <td>112.289337</td>\n",
       "      <td>116.938377</td>\n",
       "      <td>285.220947</td>\n",
       "      <td>26.762657</td>\n",
       "      <td>NaN</td>\n",
       "      <td>117.360001</td>\n",
       "      <td>123.500000</td>\n",
       "      <td>299.420013</td>\n",
       "      <td>28.440001</td>\n",
       "      <td>NaN</td>\n",
       "      <td>...</td>\n",
       "      <td>116.150002</td>\n",
       "      <td>123.500000</td>\n",
       "      <td>298.549988</td>\n",
       "      <td>28.500000</td>\n",
       "      <td>NaN</td>\n",
       "      <td>5563700.0</td>\n",
       "      <td>5369700.0</td>\n",
       "      <td>3261200.0</td>\n",
       "      <td>5725300.0</td>\n",
       "      <td>NaN</td>\n",
       "    </tr>\n",
       "    <tr>\n",
       "      <th>2020-01-10</th>\n",
       "      <td>111.351669</td>\n",
       "      <td>118.103027</td>\n",
       "      <td>283.144257</td>\n",
       "      <td>26.687380</td>\n",
       "      <td>NaN</td>\n",
       "      <td>116.379997</td>\n",
       "      <td>124.730003</td>\n",
       "      <td>297.239990</td>\n",
       "      <td>28.360001</td>\n",
       "      <td>NaN</td>\n",
       "      <td>...</td>\n",
       "      <td>117.239998</td>\n",
       "      <td>124.709999</td>\n",
       "      <td>300.000000</td>\n",
       "      <td>28.400000</td>\n",
       "      <td>NaN</td>\n",
       "      <td>6054800.0</td>\n",
       "      <td>4678000.0</td>\n",
       "      <td>2024200.0</td>\n",
       "      <td>4549300.0</td>\n",
       "      <td>NaN</td>\n",
       "    </tr>\n",
       "    <tr>\n",
       "      <th>2020-01-13</th>\n",
       "      <td>110.873276</td>\n",
       "      <td>117.288742</td>\n",
       "      <td>285.649567</td>\n",
       "      <td>26.743837</td>\n",
       "      <td>NaN</td>\n",
       "      <td>115.879997</td>\n",
       "      <td>123.870003</td>\n",
       "      <td>299.869995</td>\n",
       "      <td>28.420000</td>\n",
       "      <td>NaN</td>\n",
       "      <td>...</td>\n",
       "      <td>116.379997</td>\n",
       "      <td>124.589996</td>\n",
       "      <td>296.920013</td>\n",
       "      <td>28.340000</td>\n",
       "      <td>NaN</td>\n",
       "      <td>6112600.0</td>\n",
       "      <td>3632800.0</td>\n",
       "      <td>1778600.0</td>\n",
       "      <td>3796000.0</td>\n",
       "      <td>NaN</td>\n",
       "    </tr>\n",
       "    <tr>\n",
       "      <th>2020-01-14</th>\n",
       "      <td>111.160309</td>\n",
       "      <td>118.604889</td>\n",
       "      <td>285.535309</td>\n",
       "      <td>27.139065</td>\n",
       "      <td>NaN</td>\n",
       "      <td>116.180000</td>\n",
       "      <td>125.260002</td>\n",
       "      <td>299.750000</td>\n",
       "      <td>28.840000</td>\n",
       "      <td>NaN</td>\n",
       "      <td>...</td>\n",
       "      <td>115.470001</td>\n",
       "      <td>123.599998</td>\n",
       "      <td>299.250000</td>\n",
       "      <td>28.330000</td>\n",
       "      <td>NaN</td>\n",
       "      <td>6585800.0</td>\n",
       "      <td>3291900.0</td>\n",
       "      <td>1459900.0</td>\n",
       "      <td>6134700.0</td>\n",
       "      <td>NaN</td>\n",
       "    </tr>\n",
       "    <tr>\n",
       "      <th>2020-01-15</th>\n",
       "      <td>110.299202</td>\n",
       "      <td>110.783737</td>\n",
       "      <td>286.554504</td>\n",
       "      <td>26.621502</td>\n",
       "      <td>NaN</td>\n",
       "      <td>115.279999</td>\n",
       "      <td>117.000000</td>\n",
       "      <td>300.820007</td>\n",
       "      <td>28.290001</td>\n",
       "      <td>NaN</td>\n",
       "      <td>...</td>\n",
       "      <td>114.629997</td>\n",
       "      <td>117.489998</td>\n",
       "      <td>298.350006</td>\n",
       "      <td>28.760000</td>\n",
       "      <td>NaN</td>\n",
       "      <td>7454200.0</td>\n",
       "      <td>26743400.0</td>\n",
       "      <td>1604000.0</td>\n",
       "      <td>5676400.0</td>\n",
       "      <td>NaN</td>\n",
       "    </tr>\n",
       "  </tbody>\n",
       "</table>\n",
       "<p>10 rows × 30 columns</p>\n",
       "</div>"
      ],
      "text/plain": [
       "Attributes   Adj Close                                              Close  \\\n",
       "Symbols            WMT         TGT        COST         KR ACI         WMT   \n",
       "Date                                                                        \n",
       "2020-01-02  113.801064  119.371849  277.666962  26.969685 NaN  118.940002   \n",
       "2020-01-03  112.796432  118.131432  277.895599  27.007322 NaN  117.889999   \n",
       "2020-01-06  112.566818  117.014145  277.971832  27.101427 NaN  117.650002   \n",
       "2020-01-07  111.523895  117.222443  277.533661  26.903812 NaN  116.559998   \n",
       "2020-01-08  111.141190  116.843712  280.715240  26.743837 NaN  116.160004   \n",
       "2020-01-09  112.289337  116.938377  285.220947  26.762657 NaN  117.360001   \n",
       "2020-01-10  111.351669  118.103027  283.144257  26.687380 NaN  116.379997   \n",
       "2020-01-13  110.873276  117.288742  285.649567  26.743837 NaN  115.879997   \n",
       "2020-01-14  111.160309  118.604889  285.535309  27.139065 NaN  116.180000   \n",
       "2020-01-15  110.299202  110.783737  286.554504  26.621502 NaN  115.279999   \n",
       "\n",
       "Attributes                                         ...        Open  \\\n",
       "Symbols            TGT        COST         KR ACI  ...         WMT   \n",
       "Date                                               ...               \n",
       "2020-01-02  126.070000  291.489990  28.660000 NaN  ...  118.860001   \n",
       "2020-01-03  124.760002  291.730011  28.700001 NaN  ...  118.269997   \n",
       "2020-01-06  123.580002  291.809998  28.799999 NaN  ...  117.400002   \n",
       "2020-01-07  123.800003  291.350006  28.590000 NaN  ...  117.260002   \n",
       "2020-01-08  123.400002  294.690002  28.420000 NaN  ...  116.300003   \n",
       "2020-01-09  123.500000  299.420013  28.440001 NaN  ...  116.150002   \n",
       "2020-01-10  124.730003  297.239990  28.360001 NaN  ...  117.239998   \n",
       "2020-01-13  123.870003  299.869995  28.420000 NaN  ...  116.379997   \n",
       "2020-01-14  125.260002  299.750000  28.840000 NaN  ...  115.470001   \n",
       "2020-01-15  117.000000  300.820007  28.290001 NaN  ...  114.629997   \n",
       "\n",
       "Attributes                                            Volume              \\\n",
       "Symbols            TGT        COST         KR ACI        WMT         TGT   \n",
       "Date                                                                       \n",
       "2020-01-02  128.740005  294.059998  29.030001 NaN  6764900.0   5149800.0   \n",
       "2020-01-03  124.660004  290.049988  28.480000 NaN  5399200.0   5018500.0   \n",
       "2020-01-06  123.970001  290.549988  28.570000 NaN  6445500.0   4226900.0   \n",
       "2020-01-07  123.000000  291.320007  28.719999 NaN  6846900.0   3641600.0   \n",
       "2020-01-08  124.050003  290.989990  28.709999 NaN  5875800.0   5731600.0   \n",
       "2020-01-09  123.500000  298.549988  28.500000 NaN  5563700.0   5369700.0   \n",
       "2020-01-10  124.709999  300.000000  28.400000 NaN  6054800.0   4678000.0   \n",
       "2020-01-13  124.589996  296.920013  28.340000 NaN  6112600.0   3632800.0   \n",
       "2020-01-14  123.599998  299.250000  28.330000 NaN  6585800.0   3291900.0   \n",
       "2020-01-15  117.489998  298.350006  28.760000 NaN  7454200.0  26743400.0   \n",
       "\n",
       "Attributes                            \n",
       "Symbols          COST         KR ACI  \n",
       "Date                                  \n",
       "2020-01-02  2103600.0  6224900.0 NaN  \n",
       "2020-01-03  1926000.0  5442000.0 NaN  \n",
       "2020-01-06  2655100.0  6929600.0 NaN  \n",
       "2020-01-07  1963400.0  5882200.0 NaN  \n",
       "2020-01-08  2492800.0  7341600.0 NaN  \n",
       "2020-01-09  3261200.0  5725300.0 NaN  \n",
       "2020-01-10  2024200.0  4549300.0 NaN  \n",
       "2020-01-13  1778600.0  3796000.0 NaN  \n",
       "2020-01-14  1459900.0  6134700.0 NaN  \n",
       "2020-01-15  1604000.0  5676400.0 NaN  \n",
       "\n",
       "[10 rows x 30 columns]"
      ]
     },
     "execution_count": 2,
     "metadata": {},
     "output_type": "execute_result"
    }
   ],
   "source": [
    "#Data set 1\n",
    "df2 = data.DataReader(['WMT', 'TGT', 'COST', 'KR', 'ACI'],'yahoo', start, end)\n",
    "df2.head(10)\n",
    "#Add wholefoods and amazon"
   ]
  },
  {
   "cell_type": "markdown",
   "id": "fd198836",
   "metadata": {},
   "source": [
    "Below are several data frames and a master data frame used to generate specific plots. These are all from Yahoo Finance using the DataReader method."
   ]
  },
  {
   "cell_type": "code",
   "execution_count": 3,
   "id": "525c35d3",
   "metadata": {},
   "outputs": [
    {
     "data": {
      "text/html": [
       "<div>\n",
       "<style scoped>\n",
       "    .dataframe tbody tr th:only-of-type {\n",
       "        vertical-align: middle;\n",
       "    }\n",
       "\n",
       "    .dataframe tbody tr th {\n",
       "        vertical-align: top;\n",
       "    }\n",
       "\n",
       "    .dataframe thead th {\n",
       "        text-align: right;\n",
       "    }\n",
       "</style>\n",
       "<table border=\"1\" class=\"dataframe\">\n",
       "  <thead>\n",
       "    <tr style=\"text-align: right;\">\n",
       "      <th></th>\n",
       "      <th></th>\n",
       "      <th>High</th>\n",
       "      <th>Low</th>\n",
       "      <th>Open</th>\n",
       "      <th>Close</th>\n",
       "      <th>Volume</th>\n",
       "      <th>Adj Close</th>\n",
       "      <th>Company</th>\n",
       "    </tr>\n",
       "    <tr>\n",
       "      <th></th>\n",
       "      <th>Date</th>\n",
       "      <th></th>\n",
       "      <th></th>\n",
       "      <th></th>\n",
       "      <th></th>\n",
       "      <th></th>\n",
       "      <th></th>\n",
       "      <th></th>\n",
       "    </tr>\n",
       "  </thead>\n",
       "  <tbody>\n",
       "    <tr>\n",
       "      <th rowspan=\"5\" valign=\"top\">Walmart</th>\n",
       "      <th>2020-01-02</th>\n",
       "      <td>119.889999</td>\n",
       "      <td>118.699997</td>\n",
       "      <td>118.860001</td>\n",
       "      <td>118.940002</td>\n",
       "      <td>6764900.0</td>\n",
       "      <td>113.801071</td>\n",
       "      <td>Walmart</td>\n",
       "    </tr>\n",
       "    <tr>\n",
       "      <th>2020-01-03</th>\n",
       "      <td>118.790001</td>\n",
       "      <td>117.589996</td>\n",
       "      <td>118.269997</td>\n",
       "      <td>117.889999</td>\n",
       "      <td>5399200.0</td>\n",
       "      <td>112.796425</td>\n",
       "      <td>Walmart</td>\n",
       "    </tr>\n",
       "    <tr>\n",
       "      <th>2020-01-06</th>\n",
       "      <td>118.089996</td>\n",
       "      <td>116.769997</td>\n",
       "      <td>117.400002</td>\n",
       "      <td>117.650002</td>\n",
       "      <td>6445500.0</td>\n",
       "      <td>112.566811</td>\n",
       "      <td>Walmart</td>\n",
       "    </tr>\n",
       "    <tr>\n",
       "      <th>2020-01-07</th>\n",
       "      <td>117.519997</td>\n",
       "      <td>116.199997</td>\n",
       "      <td>117.260002</td>\n",
       "      <td>116.559998</td>\n",
       "      <td>6846900.0</td>\n",
       "      <td>111.523895</td>\n",
       "      <td>Walmart</td>\n",
       "    </tr>\n",
       "    <tr>\n",
       "      <th>2020-01-08</th>\n",
       "      <td>116.730003</td>\n",
       "      <td>115.680000</td>\n",
       "      <td>116.300003</td>\n",
       "      <td>116.160004</td>\n",
       "      <td>5875800.0</td>\n",
       "      <td>111.141174</td>\n",
       "      <td>Walmart</td>\n",
       "    </tr>\n",
       "    <tr>\n",
       "      <th>...</th>\n",
       "      <th>...</th>\n",
       "      <td>...</td>\n",
       "      <td>...</td>\n",
       "      <td>...</td>\n",
       "      <td>...</td>\n",
       "      <td>...</td>\n",
       "      <td>...</td>\n",
       "      <td>...</td>\n",
       "    </tr>\n",
       "    <tr>\n",
       "      <th rowspan=\"5\" valign=\"top\">Albertsons</th>\n",
       "      <th>2022-11-18</th>\n",
       "      <td>20.840000</td>\n",
       "      <td>20.299999</td>\n",
       "      <td>20.730000</td>\n",
       "      <td>20.520000</td>\n",
       "      <td>6182100.0</td>\n",
       "      <td>20.520000</td>\n",
       "      <td>Albertsons</td>\n",
       "    </tr>\n",
       "    <tr>\n",
       "      <th>2022-11-21</th>\n",
       "      <td>20.799999</td>\n",
       "      <td>20.430000</td>\n",
       "      <td>20.570000</td>\n",
       "      <td>20.440001</td>\n",
       "      <td>2628500.0</td>\n",
       "      <td>20.440001</td>\n",
       "      <td>Albertsons</td>\n",
       "    </tr>\n",
       "    <tr>\n",
       "      <th>2022-11-22</th>\n",
       "      <td>20.715000</td>\n",
       "      <td>20.490000</td>\n",
       "      <td>20.490000</td>\n",
       "      <td>20.549999</td>\n",
       "      <td>2744500.0</td>\n",
       "      <td>20.549999</td>\n",
       "      <td>Albertsons</td>\n",
       "    </tr>\n",
       "    <tr>\n",
       "      <th>2022-11-23</th>\n",
       "      <td>20.680000</td>\n",
       "      <td>20.420000</td>\n",
       "      <td>20.549999</td>\n",
       "      <td>20.440001</td>\n",
       "      <td>1873400.0</td>\n",
       "      <td>20.440001</td>\n",
       "      <td>Albertsons</td>\n",
       "    </tr>\n",
       "    <tr>\n",
       "      <th>2022-11-25</th>\n",
       "      <td>20.690001</td>\n",
       "      <td>20.500000</td>\n",
       "      <td>20.510000</td>\n",
       "      <td>20.670000</td>\n",
       "      <td>906100.0</td>\n",
       "      <td>20.670000</td>\n",
       "      <td>Albertsons</td>\n",
       "    </tr>\n",
       "  </tbody>\n",
       "</table>\n",
       "<p>3538 rows × 7 columns</p>\n",
       "</div>"
      ],
      "text/plain": [
       "                             High         Low        Open       Close  \\\n",
       "           Date                                                         \n",
       "Walmart    2020-01-02  119.889999  118.699997  118.860001  118.940002   \n",
       "           2020-01-03  118.790001  117.589996  118.269997  117.889999   \n",
       "           2020-01-06  118.089996  116.769997  117.400002  117.650002   \n",
       "           2020-01-07  117.519997  116.199997  117.260002  116.559998   \n",
       "           2020-01-08  116.730003  115.680000  116.300003  116.160004   \n",
       "...                           ...         ...         ...         ...   \n",
       "Albertsons 2022-11-18   20.840000   20.299999   20.730000   20.520000   \n",
       "           2022-11-21   20.799999   20.430000   20.570000   20.440001   \n",
       "           2022-11-22   20.715000   20.490000   20.490000   20.549999   \n",
       "           2022-11-23   20.680000   20.420000   20.549999   20.440001   \n",
       "           2022-11-25   20.690001   20.500000   20.510000   20.670000   \n",
       "\n",
       "                          Volume   Adj Close     Company  \n",
       "           Date                                           \n",
       "Walmart    2020-01-02  6764900.0  113.801071     Walmart  \n",
       "           2020-01-03  5399200.0  112.796425     Walmart  \n",
       "           2020-01-06  6445500.0  112.566811     Walmart  \n",
       "           2020-01-07  6846900.0  111.523895     Walmart  \n",
       "           2020-01-08  5875800.0  111.141174     Walmart  \n",
       "...                          ...         ...         ...  \n",
       "Albertsons 2022-11-18  6182100.0   20.520000  Albertsons  \n",
       "           2022-11-21  2628500.0   20.440001  Albertsons  \n",
       "           2022-11-22  2744500.0   20.549999  Albertsons  \n",
       "           2022-11-23  1873400.0   20.440001  Albertsons  \n",
       "           2022-11-25   906100.0   20.670000  Albertsons  \n",
       "\n",
       "[3538 rows x 7 columns]"
      ]
     },
     "execution_count": 3,
     "metadata": {},
     "output_type": "execute_result"
    }
   ],
   "source": [
    "#Data set 2\n",
    "Walmart = data.DataReader(\"WMT\", 'yahoo', start, end)\n",
    "Target = data.DataReader(\"TGT\", 'yahoo', start, end)\n",
    "Costco = data.DataReader(\"COST\", 'yahoo', start, end)\n",
    "Kroger = data.DataReader(\"KR\", 'yahoo', start, end)\n",
    "Albertsons = data.DataReader(\"ACI\", 'yahoo', start, end)\n",
    "\n",
    "Walmart[\"Company\"]='Walmart'\n",
    "Target[\"Company\"]='Target'\n",
    "Costco[\"Company\"]='Costco'\n",
    "Kroger[\"Company\"]='Kroger'\n",
    "Albertsons[\"Company\"]='Albertsons'\n",
    "\n",
    "master2 = pd.concat([Walmart,Target,Costco,Kroger,Albertsons],\n",
    "                   keys=[\"Walmart\",\"Target\",\"Costco\",\"Kroger\",\"Albertsons\"])\n",
    "master2\n",
    "#Add wholefoods and amazon"
   ]
  },
  {
   "cell_type": "markdown",
   "id": "175cc337",
   "metadata": {},
   "source": [
    "The first plot shows the Adj Closures of Kroger and Albertsons. We thought this would be important to determine if consumers thought the acquisition would be profitable. "
   ]
  },
  {
   "cell_type": "code",
   "execution_count": 4,
   "id": "2014e326",
   "metadata": {},
   "outputs": [
    {
     "data": {
      "text/plain": [
       "Text(0, 0.5, 'Adjacent Closing Price')"
      ]
     },
     "execution_count": 4,
     "metadata": {},
     "output_type": "execute_result"
    },
    {
     "data": {
      "image/png": "[encoded data removed]",
      "text/plain": [
       "<Figure size 432x288 with 1 Axes>"
      ]
     },
     "metadata": {
      "needs_background": "light"
     },
     "output_type": "display_data"
    }
   ],
   "source": [
    "#Kroger and Albertsons Stock\n",
    "ak = df2[\"Adj Close\"][[\"KR\",\"ACI\"]]\n",
    "\n",
    "akfig = ak.plot()\n",
    "\n",
    "akfig.set_ylabel(\"Adjacent Closing Price\")"
   ]
  },
  {
   "cell_type": "markdown",
   "id": "329e5afd",
   "metadata": {},
   "source": [
    "We plotted Amazon during the Whole Foods acquisition to compare the two companies. While they operate in different industries we believe the data can reveal a trend in acquisitions. We needed to create a new date time objects and data frame to accomplish this. This data also came from Yahoo Finance. df3 was created here."
   ]
  },
  {
   "cell_type": "code",
   "execution_count": 5,
   "id": "44d1afd1",
   "metadata": {},
   "outputs": [
    {
     "data": {
      "text/plain": [
       "Text(0, 0.5, 'Adjacent Closing Price')"
      ]
     },
     "execution_count": 5,
     "metadata": {},
     "output_type": "execute_result"
    },
    {
     "data": {
      "image/png": "[encoded data removed]",
      "text/plain": [
       "<Figure size 432x288 with 1 Axes>"
      ]
     },
     "metadata": {
      "needs_background": "light"
     },
     "output_type": "display_data"
    }
   ],
   "source": [
    "#Amazon stock during the time period it bought Whole Foods\n",
    "s2 = datetime.datetime(2017, 5, 1)\n",
    "\n",
    "e2 = datetime.datetime(2017, 12, 31)\n",
    "\n",
    "df3 = data.DataReader('AMZN','yahoo', s2, e2)\n",
    "\n",
    "aw = df3[\"Adj Close\"]\n",
    "\n",
    "awfig = aw.plot(title=\"Amazon Stock\")\n",
    "\n",
    "awfig.set_ylabel(\"Adjacent Closing Price\")\n"
   ]
  },
  {
   "cell_type": "markdown",
   "id": "4126c4e6",
   "metadata": {},
   "source": [
    "In the past Kroger purchased another grocery company. Therefore, we made a plot to show this with new datatime objects and data frame from Yahoo Finance. df4 was created here."
   ]
  },
  {
   "cell_type": "code",
   "execution_count": 64,
   "id": "f9a32076",
   "metadata": {},
   "outputs": [
    {
     "data": {
      "text/plain": [
       "Text(0, 0.5, 'Adjacent Closing Price')"
      ]
     },
     "execution_count": 64,
     "metadata": {},
     "output_type": "execute_result"
    },
    {
     "data": {
      "image/png": "[encoded data removed]",
      "text/plain": [
       "<Figure size 432x288 with 1 Axes>"
      ]
     },
     "metadata": {
      "needs_background": "light"
     },
     "output_type": "display_data"
    }
   ],
   "source": [
    "# Kroger Bought Ralphs \n",
    "s3 = datetime.datetime(1998, 6, 1)\n",
    "\n",
    "e3 = datetime.datetime(1999, 12, 31)\n",
    "\n",
    "df4 = data.DataReader('KR','yahoo', s3, e3)\n",
    "\n",
    "tr = df4[\"Adj Close\"]\n",
    "\n",
    "trfig = tr.plot(title=\"Kroger Stock\")\n",
    "\n",
    "trfig.set_ylabel(\"Adjacent Closing Price\")"
   ]
  },
  {
   "cell_type": "markdown",
   "id": "30bc08e7",
   "metadata": {},
   "source": [
    "We found that while stock prices increased when acquiring Ralphs they eventually plumeted. Furthermore, Kroger stock dipped after they acquired Albertsons. Intrestingly, Amazon skyrocketed after acquiring Whole Foods. We believe this data reveals the acquisition might not be the best idea.  "
   ]
  },
  {
   "cell_type": "markdown",
   "id": "d1ec0e69",
   "metadata": {},
   "source": [
    "Using a perviously defined data frame (df4) we multiplied the open and volume of Kroger stock to find the stock trade during the ralphs acquisition."
   ]
  },
  {
   "cell_type": "code",
   "execution_count": 7,
   "id": "e6367730",
   "metadata": {},
   "outputs": [
    {
     "data": {
      "text/plain": [
       "<AxesSubplot:title={'center':'Total Kroger Stock Trade During Ralphs Aquisition'}, xlabel='Date'>"
      ]
     },
     "execution_count": 7,
     "metadata": {},
     "output_type": "execute_result"
    },
    {
     "data": {
      "image/png": "[encoded data removed]",
      "text/plain": [
       "<Figure size 720x720 with 1 Axes>"
      ]
     },
     "metadata": {
      "needs_background": "light"
     },
     "output_type": "display_data"
    }
   ],
   "source": [
    "df4[\"Total Traded\"] = df4[\"Open\"]*df4[\"Volume\"]\n",
    "df4[\"Total Traded\"].plot(title=\"Total Kroger Stock Trade During Ralphs Aquisition\",figsize=(10,10))"
   ]
  },
  {
   "cell_type": "markdown",
   "id": "305479bf",
   "metadata": {},
   "source": [
    "We repeated the steps above to generate the total trade of Amazon stock during their Whole Foods acquisition. The manipulation occured on df3."
   ]
  },
  {
   "cell_type": "code",
   "execution_count": 8,
   "id": "ac8ff819",
   "metadata": {},
   "outputs": [
    {
     "data": {
      "text/plain": [
       "<AxesSubplot:title={'center':'Total Amazon Stock Trade During Whole Foods Aquisition'}, xlabel='Date'>"
      ]
     },
     "execution_count": 8,
     "metadata": {},
     "output_type": "execute_result"
    },
    {
     "data": {
      "image/png": "[encoded data removed]",
      "text/plain": [
       "<Figure size 720x720 with 1 Axes>"
      ]
     },
     "metadata": {
      "needs_background": "light"
     },
     "output_type": "display_data"
    }
   ],
   "source": [
    "df3[\"Total Traded\"] = df3[\"Open\"]*df3[\"Volume\"]\n",
    "df3[\"Total Traded\"].plot(title=\"Total Amazon Stock Trade During Whole Foods Aquisition\",figsize=(10,10))"
   ]
  },
  {
   "cell_type": "markdown",
   "id": "a473ec7e",
   "metadata": {},
   "source": [
    "Finally we used the Kroger and Albertsons data frame to plot trade volume to idenfify a pattern during their acquisition."
   ]
  },
  {
   "cell_type": "code",
   "execution_count": 9,
   "id": "574b7909",
   "metadata": {},
   "outputs": [
    {
     "data": {
      "image/png": "[encoded data removed]",
      "text/plain": [
       "<Figure size 720x720 with 1 Axes>"
      ]
     },
     "metadata": {
      "needs_background": "light"
     },
     "output_type": "display_data"
    }
   ],
   "source": [
    "# Kroger and Albertsons stock trade during aquisition\n",
    "Kroger[\"Kroger\"] = Kroger[\"Open\"]*Kroger[\"Volume\"]\n",
    "Albertsons[\"Albertsons\"] = Albertsons[\"Open\"]*Albertsons[\"Volume\"]\n",
    "\n",
    "Kroger[\"Kroger\"].plot(title=\"Total Kroger Trade\",figsize=(10,10))\n",
    "Albertsons[\"Albertsons\"].plot(title=\"Total Albertsons Trade\",figsize=(10,10))\n",
    "\n",
    "plt.legend()\n",
    "plt.title(\"Kroger and Albertsons Trade\")\n",
    "plt.ylabel(\"Total Traded\")\n",
    "plt.show()"
   ]
  },
  {
   "cell_type": "markdown",
   "id": "74462cc9",
   "metadata": {},
   "source": [
    "We found that Albertsons and Kroger follow very similar volumes. However, Albertsons has been consitently lower than Kroger. This might point to how the grocery giant was able to buy its competitior. However, the plots suggest high significance of market movement."
   ]
  },
  {
   "cell_type": "markdown",
   "id": "fcefde22",
   "metadata": {},
   "source": [
    "The next analysis we conduced was the rolling averages. To do this we created new columns in the Kroger data frame and used the rolling() method on the close column. Then the mean() method was applied. Using the new columns we plotted Rolling 300, close, and Rolling 60."
   ]
  },
  {
   "cell_type": "code",
   "execution_count": 63,
   "id": "73b0a5cc",
   "metadata": {},
   "outputs": [
    {
     "data": {
      "text/plain": [
       "Text(0.5, 1.0, 'Kroger Moving Averages During Albertsons Aquisition')"
      ]
     },
     "execution_count": 63,
     "metadata": {},
     "output_type": "execute_result"
    },
    {
     "data": {
      "image/png": "[encoded data removed]",
      "text/plain": [
       "<Figure size 1152x360 with 1 Axes>"
      ]
     },
     "metadata": {
      "needs_background": "light"
     },
     "output_type": "display_data"
    }
   ],
   "source": [
    "Kroger[\"Rolling300\"]=Kroger[\"Close\"].rolling(300).mean()\n",
    "Kroger[\"Rolling300\"].plot(figsize=(16,5))\n",
    "Kroger[\"Close\"].plot()\n",
    "Kroger[\"Rolling60\"]=Kroger[\"Close\"].rolling(60).mean()\n",
    "Kroger[\"Rolling60\"].plot()\n",
    "\n",
    "plt.legend()\n",
    "plt.title(\"Kroger Moving Averages During Albertsons Aquisition\")\n"
   ]
  },
  {
   "cell_type": "markdown",
   "id": "8d5628e5",
   "metadata": {},
   "source": [
    "The steps for Kroger where repeated on the Albertsons data frame. "
   ]
  },
  {
   "cell_type": "code",
   "execution_count": 11,
   "id": "c07ceef8",
   "metadata": {},
   "outputs": [
    {
     "data": {
      "text/plain": [
       "Text(0.5, 1.0, 'Albertsons Moving Averages')"
      ]
     },
     "execution_count": 11,
     "metadata": {},
     "output_type": "execute_result"
    },
    {
     "data": {
      "image/png": "[encoded data removed]",
      "text/plain": [
       "<Figure size 1152x360 with 1 Axes>"
      ]
     },
     "metadata": {
      "needs_background": "light"
     },
     "output_type": "display_data"
    }
   ],
   "source": [
    "Albertsons[\"Rolling300\"]=Albertsons[\"Close\"].rolling(300).mean()\n",
    "Albertsons[\"Rolling300\"].plot(figsize=(16,5))\n",
    "Albertsons[\"Close\"].plot()\n",
    "Albertsons[\"Rolling60\"]=Albertsons[\"Close\"].rolling(60).mean()\n",
    "Albertsons[\"Rolling60\"].plot()\n",
    "\n",
    "plt.legend()\n",
    "plt.title(\"Albertsons Moving Averages\")\n"
   ]
  },
  {
   "cell_type": "markdown",
   "id": "41302685",
   "metadata": {},
   "source": [
    "Using the data frame (df4) created to analyze Kroger during the Ralphs Acquisition we applied the rolling() method with the same arguments and took the mean to create another plot."
   ]
  },
  {
   "cell_type": "code",
   "execution_count": 12,
   "id": "eefa4822",
   "metadata": {},
   "outputs": [
    {
     "data": {
      "text/plain": [
       "Text(0.5, 1.0, 'Kroger Moving Averages at time of Ralphs Aquisition')"
      ]
     },
     "execution_count": 12,
     "metadata": {},
     "output_type": "execute_result"
    },
    {
     "data": {
      "image/png": "[encoded data removed]",
      "text/plain": [
       "<Figure size 1152x360 with 1 Axes>"
      ]
     },
     "metadata": {
      "needs_background": "light"
     },
     "output_type": "display_data"
    }
   ],
   "source": [
    "df4[\"Rolling300\"]=df4[\"Close\"].rolling(300).mean()\n",
    "df4[\"Rolling300\"].plot(figsize=(16,5))\n",
    "df4[\"Close\"].plot()\n",
    "df4[\"Rolling60\"]=df4[\"Close\"].rolling(60).mean()\n",
    "df4[\"Rolling60\"].plot()\n",
    "\n",
    "plt.legend()\n",
    "plt.title(\"Kroger Moving Averages at time of Ralphs Aquisition\")\n"
   ]
  },
  {
   "cell_type": "markdown",
   "id": "d24633d0",
   "metadata": {},
   "source": [
    "We applied the same methods to the Amazon data frame (df3) during the Whole Foods Acquisition."
   ]
  },
  {
   "cell_type": "code",
   "execution_count": 13,
   "id": "4722916e",
   "metadata": {},
   "outputs": [
    {
     "data": {
      "text/plain": [
       "Text(0.5, 1.0, 'Amazon Moving Averages at time of Whole Foods Aquisition')"
      ]
     },
     "execution_count": 13,
     "metadata": {},
     "output_type": "execute_result"
    },
    {
     "data": {
      "image/png": "[encoded data removed]",
      "text/plain": [
       "<Figure size 1152x360 with 1 Axes>"
      ]
     },
     "metadata": {
      "needs_background": "light"
     },
     "output_type": "display_data"
    }
   ],
   "source": [
    "df3[\"Rolling300\"]=df3[\"Close\"].rolling(300).mean()\n",
    "df3[\"Rolling300\"].plot(figsize=(16,5))\n",
    "df3[\"Close\"].plot()\n",
    "df3[\"Rolling60\"]=df3[\"Close\"].rolling(60).mean()\n",
    "df3[\"Rolling60\"].plot()\n",
    "\n",
    "plt.legend()\n",
    "plt.title(\"Amazon Moving Averages at time of Whole Foods Aquisition\")\n"
   ]
  },
  {
   "cell_type": "markdown",
   "id": "a23ad23d",
   "metadata": {},
   "source": [
    "We found that Kroger is likely attempting to recreate the success of the Ralphs acquisition. However, given the success of services such as Amazon it is uncertain if the sucess is replicatable."
   ]
  },
  {
   "cell_type": "markdown",
   "id": "bf95bb7f",
   "metadata": {},
   "source": [
    "The next plots are an analysis of return volatility. This was accomplished by applying the .pct_change() method on the close colunm and creating a new returns column. Then the .hist() method was used. We had to install pylab to add titles to our plots. This manipulation was done to the Kroger data frame, Albertsons data frame, and Kroger during Ralphs data frame(df4)."
   ]
  },
  {
   "cell_type": "code",
   "execution_count": 62,
   "id": "19f0ffbb",
   "metadata": {},
   "outputs": [
    {
     "data": {
      "text/plain": [
       "Text(0.5, 1.0, 'Kroger Returns during Albertsons Aquisition')"
      ]
     },
     "execution_count": 62,
     "metadata": {},
     "output_type": "execute_result"
    },
    {
     "data": {
      "image/png": "[encoded data removed]",
      "text/plain": [
       "<Figure size 432x288 with 1 Axes>"
      ]
     },
     "metadata": {
      "needs_background": "light"
     },
     "output_type": "display_data"
    }
   ],
   "source": [
    "Kroger[\"returns\"] = Kroger[\"Close\"].pct_change()\n",
    "Kroger[\"returns\"].hist(bins=30)\n",
    "py.title(\"Kroger Returns during Albertsons Aquisition\")"
   ]
  },
  {
   "cell_type": "code",
   "execution_count": 60,
   "id": "4e2a622e",
   "metadata": {},
   "outputs": [
    {
     "data": {
      "text/plain": [
       "Text(0.5, 1.0, 'Albertsons Returns during Kroger Aquisition')"
      ]
     },
     "execution_count": 60,
     "metadata": {},
     "output_type": "execute_result"
    },
    {
     "data": {
      "image/png": "[encoded data removed]",
      "text/plain": [
       "<Figure size 432x288 with 1 Axes>"
      ]
     },
     "metadata": {
      "needs_background": "light"
     },
     "output_type": "display_data"
    }
   ],
   "source": [
    "Albertsons[\"returns\"] = Albertsons[\"Close\"].pct_change()\n",
    "Albertsons[\"returns\"].hist(bins=30)\n",
    "py.title(\"Albertsons Returns during Kroger Aquisition\")"
   ]
  },
  {
   "cell_type": "code",
   "execution_count": 59,
   "id": "2d18288f",
   "metadata": {},
   "outputs": [
    {
     "data": {
      "text/plain": [
       "Text(0.5, 1.0, 'Kroger Returns When Aquiring Ralphs')"
      ]
     },
     "execution_count": 59,
     "metadata": {},
     "output_type": "execute_result"
    },
    {
     "data": {
      "image/png": "[encoded data removed]",
      "text/plain": [
       "<Figure size 432x288 with 1 Axes>"
      ]
     },
     "metadata": {
      "needs_background": "light"
     },
     "output_type": "display_data"
    }
   ],
   "source": [
    "#Kroger at time of aquiring raphs\n",
    "df4[\"returns\"] = df4[\"Close\"].pct_change()\n",
    "df4[\"returns\"].hist(bins=30)\n",
    "py.title(\"Kroger Returns When Aquiring Ralphs\")"
   ]
  },
  {
   "cell_type": "markdown",
   "id": "15747630",
   "metadata": {},
   "source": [
    "We found that the Albertsons acquisition was more risky for Kroger. This is also very different from Amazon's acquisition of Whole Foods. This means shareholders might not think the acquisition was a good move. "
   ]
  },
  {
   "cell_type": "markdown",
   "id": "d09384fe",
   "metadata": {},
   "source": [
    "In order to clean the data we generated by searching the number of store locations we needed a data frame containing all the state ids. The data was taken from https://worldpopulationreview.com/states/state-abbreviations. However, not all the data was needed and we had to drop a column from the data frame. Finally, we created a dictionary to iterate over later."
   ]
  },
  {
   "cell_type": "code",
   "execution_count": 18,
   "id": "1d848287",
   "metadata": {},
   "outputs": [],
   "source": [
    "states = pd.read_csv(\"csvData.csv\")\n",
    "\n",
    "states = states.set_index(\"state\")\n",
    "states = states.drop(\"abbrev\", axis=1)\n",
    "\n",
    "states = states.to_dict()"
   ]
  },
  {
   "cell_type": "markdown",
   "id": "4bffe45f",
   "metadata": {},
   "source": [
    "We created an Albertsons.csv and Kroger.csv with the number of store locations in each state for each respective store."
   ]
  },
  {
   "cell_type": "code",
   "execution_count": 19,
   "id": "75653643",
   "metadata": {},
   "outputs": [
    {
     "data": {
      "text/html": [
       "<div>\n",
       "<style scoped>\n",
       "    .dataframe tbody tr th:only-of-type {\n",
       "        vertical-align: middle;\n",
       "    }\n",
       "\n",
       "    .dataframe tbody tr th {\n",
       "        vertical-align: top;\n",
       "    }\n",
       "\n",
       "    .dataframe thead th {\n",
       "        text-align: right;\n",
       "    }\n",
       "</style>\n",
       "<table border=\"1\" class=\"dataframe\">\n",
       "  <thead>\n",
       "    <tr style=\"text-align: right;\">\n",
       "      <th></th>\n",
       "      <th>State</th>\n",
       "      <th>Number of Stores</th>\n",
       "    </tr>\n",
       "  </thead>\n",
       "  <tbody>\n",
       "    <tr>\n",
       "      <th>0</th>\n",
       "      <td>Arizona</td>\n",
       "      <td>30</td>\n",
       "    </tr>\n",
       "    <tr>\n",
       "      <th>1</th>\n",
       "      <td>Arkansas</td>\n",
       "      <td>1</td>\n",
       "    </tr>\n",
       "    <tr>\n",
       "      <th>2</th>\n",
       "      <td>California</td>\n",
       "      <td>125</td>\n",
       "    </tr>\n",
       "    <tr>\n",
       "      <th>3</th>\n",
       "      <td>Colorado</td>\n",
       "      <td>2</td>\n",
       "    </tr>\n",
       "    <tr>\n",
       "      <th>4</th>\n",
       "      <td>Idaho</td>\n",
       "      <td>39</td>\n",
       "    </tr>\n",
       "    <tr>\n",
       "      <th>5</th>\n",
       "      <td>Louisiana</td>\n",
       "      <td>16</td>\n",
       "    </tr>\n",
       "    <tr>\n",
       "      <th>6</th>\n",
       "      <td>Motana</td>\n",
       "      <td>29</td>\n",
       "    </tr>\n",
       "    <tr>\n",
       "      <th>7</th>\n",
       "      <td>Nevada</td>\n",
       "      <td>35</td>\n",
       "    </tr>\n",
       "    <tr>\n",
       "      <th>8</th>\n",
       "      <td>New Mexico</td>\n",
       "      <td>6</td>\n",
       "    </tr>\n",
       "    <tr>\n",
       "      <th>9</th>\n",
       "      <td>North Dakota</td>\n",
       "      <td>1</td>\n",
       "    </tr>\n",
       "    <tr>\n",
       "      <th>10</th>\n",
       "      <td>Oregon</td>\n",
       "      <td>29</td>\n",
       "    </tr>\n",
       "    <tr>\n",
       "      <th>11</th>\n",
       "      <td>Texas</td>\n",
       "      <td>43</td>\n",
       "    </tr>\n",
       "    <tr>\n",
       "      <th>12</th>\n",
       "      <td>Utah</td>\n",
       "      <td>2</td>\n",
       "    </tr>\n",
       "    <tr>\n",
       "      <th>13</th>\n",
       "      <td>Washington</td>\n",
       "      <td>19</td>\n",
       "    </tr>\n",
       "    <tr>\n",
       "      <th>14</th>\n",
       "      <td>Wyoming</td>\n",
       "      <td>9</td>\n",
       "    </tr>\n",
       "  </tbody>\n",
       "</table>\n",
       "</div>"
      ],
      "text/plain": [
       "           State  Number of Stores\n",
       "0        Arizona                30\n",
       "1       Arkansas                 1\n",
       "2     California               125\n",
       "3       Colorado                 2\n",
       "4          Idaho                39\n",
       "5      Louisiana                16\n",
       "6         Motana                29\n",
       "7         Nevada                35\n",
       "8     New Mexico                 6\n",
       "9   North Dakota                 1\n",
       "10        Oregon                29\n",
       "11         Texas                43\n",
       "12          Utah                 2\n",
       "13    Washington                19\n",
       "14       Wyoming                 9"
      ]
     },
     "execution_count": 19,
     "metadata": {},
     "output_type": "execute_result"
    }
   ],
   "source": [
    "alb = pd.read_csv('Albertsons.csv')\n",
    "alb"
   ]
  },
  {
   "cell_type": "markdown",
   "id": "809fd996",
   "metadata": {},
   "source": [
    "In order to create the choropleths we needed to use state ids to call the function, therefore, in each data frame we created an empty column called ids using a lambda function."
   ]
  },
  {
   "cell_type": "code",
   "execution_count": 20,
   "id": "22d0cbde",
   "metadata": {},
   "outputs": [
    {
     "data": {
      "text/html": [
       "<div>\n",
       "<style scoped>\n",
       "    .dataframe tbody tr th:only-of-type {\n",
       "        vertical-align: middle;\n",
       "    }\n",
       "\n",
       "    .dataframe tbody tr th {\n",
       "        vertical-align: top;\n",
       "    }\n",
       "\n",
       "    .dataframe thead th {\n",
       "        text-align: right;\n",
       "    }\n",
       "</style>\n",
       "<table border=\"1\" class=\"dataframe\">\n",
       "  <thead>\n",
       "    <tr style=\"text-align: right;\">\n",
       "      <th></th>\n",
       "      <th>State</th>\n",
       "      <th>Number of Stores</th>\n",
       "      <th>ids</th>\n",
       "    </tr>\n",
       "  </thead>\n",
       "  <tbody>\n",
       "    <tr>\n",
       "      <th>0</th>\n",
       "      <td>Arizona</td>\n",
       "      <td>30</td>\n",
       "      <td></td>\n",
       "    </tr>\n",
       "    <tr>\n",
       "      <th>1</th>\n",
       "      <td>Arkansas</td>\n",
       "      <td>1</td>\n",
       "      <td></td>\n",
       "    </tr>\n",
       "    <tr>\n",
       "      <th>2</th>\n",
       "      <td>California</td>\n",
       "      <td>125</td>\n",
       "      <td></td>\n",
       "    </tr>\n",
       "    <tr>\n",
       "      <th>3</th>\n",
       "      <td>Colorado</td>\n",
       "      <td>2</td>\n",
       "      <td></td>\n",
       "    </tr>\n",
       "    <tr>\n",
       "      <th>4</th>\n",
       "      <td>Idaho</td>\n",
       "      <td>39</td>\n",
       "      <td></td>\n",
       "    </tr>\n",
       "    <tr>\n",
       "      <th>5</th>\n",
       "      <td>Louisiana</td>\n",
       "      <td>16</td>\n",
       "      <td></td>\n",
       "    </tr>\n",
       "    <tr>\n",
       "      <th>6</th>\n",
       "      <td>Motana</td>\n",
       "      <td>29</td>\n",
       "      <td></td>\n",
       "    </tr>\n",
       "    <tr>\n",
       "      <th>7</th>\n",
       "      <td>Nevada</td>\n",
       "      <td>35</td>\n",
       "      <td></td>\n",
       "    </tr>\n",
       "    <tr>\n",
       "      <th>8</th>\n",
       "      <td>New Mexico</td>\n",
       "      <td>6</td>\n",
       "      <td></td>\n",
       "    </tr>\n",
       "    <tr>\n",
       "      <th>9</th>\n",
       "      <td>North Dakota</td>\n",
       "      <td>1</td>\n",
       "      <td></td>\n",
       "    </tr>\n",
       "    <tr>\n",
       "      <th>10</th>\n",
       "      <td>Oregon</td>\n",
       "      <td>29</td>\n",
       "      <td></td>\n",
       "    </tr>\n",
       "    <tr>\n",
       "      <th>11</th>\n",
       "      <td>Texas</td>\n",
       "      <td>43</td>\n",
       "      <td></td>\n",
       "    </tr>\n",
       "    <tr>\n",
       "      <th>12</th>\n",
       "      <td>Utah</td>\n",
       "      <td>2</td>\n",
       "      <td></td>\n",
       "    </tr>\n",
       "    <tr>\n",
       "      <th>13</th>\n",
       "      <td>Washington</td>\n",
       "      <td>19</td>\n",
       "      <td></td>\n",
       "    </tr>\n",
       "    <tr>\n",
       "      <th>14</th>\n",
       "      <td>Wyoming</td>\n",
       "      <td>9</td>\n",
       "      <td></td>\n",
       "    </tr>\n",
       "  </tbody>\n",
       "</table>\n",
       "</div>"
      ],
      "text/plain": [
       "           State  Number of Stores ids\n",
       "0        Arizona                30    \n",
       "1       Arkansas                 1    \n",
       "2     California               125    \n",
       "3       Colorado                 2    \n",
       "4          Idaho                39    \n",
       "5      Louisiana                16    \n",
       "6         Motana                29    \n",
       "7         Nevada                35    \n",
       "8     New Mexico                 6    \n",
       "9   North Dakota                 1    \n",
       "10        Oregon                29    \n",
       "11         Texas                43    \n",
       "12          Utah                 2    \n",
       "13    Washington                19    \n",
       "14       Wyoming                 9    "
      ]
     },
     "execution_count": 20,
     "metadata": {},
     "output_type": "execute_result"
    }
   ],
   "source": [
    "alb[\"ids\"]=alb.apply(lambda _:\"\",axis=1)\n",
    "alb"
   ]
  },
  {
   "cell_type": "markdown",
   "id": "4e842e32",
   "metadata": {},
   "source": [
    "This is the Kroger.csv data frame (kro). The same methods were done to it as the Albertsons data frame."
   ]
  },
  {
   "cell_type": "code",
   "execution_count": 21,
   "id": "983e84b7",
   "metadata": {},
   "outputs": [
    {
     "data": {
      "text/html": [
       "<div>\n",
       "<style scoped>\n",
       "    .dataframe tbody tr th:only-of-type {\n",
       "        vertical-align: middle;\n",
       "    }\n",
       "\n",
       "    .dataframe tbody tr th {\n",
       "        vertical-align: top;\n",
       "    }\n",
       "\n",
       "    .dataframe thead th {\n",
       "        text-align: right;\n",
       "    }\n",
       "</style>\n",
       "<table border=\"1\" class=\"dataframe\">\n",
       "  <thead>\n",
       "    <tr style=\"text-align: right;\">\n",
       "      <th></th>\n",
       "      <th>State</th>\n",
       "      <th>Number of stores</th>\n",
       "    </tr>\n",
       "  </thead>\n",
       "  <tbody>\n",
       "    <tr>\n",
       "      <th>0</th>\n",
       "      <td>Alabama</td>\n",
       "      <td>10</td>\n",
       "    </tr>\n",
       "    <tr>\n",
       "      <th>1</th>\n",
       "      <td>Arkansas</td>\n",
       "      <td>26</td>\n",
       "    </tr>\n",
       "    <tr>\n",
       "      <th>2</th>\n",
       "      <td>Georgia</td>\n",
       "      <td>167</td>\n",
       "    </tr>\n",
       "    <tr>\n",
       "      <th>3</th>\n",
       "      <td>Illinois</td>\n",
       "      <td>30</td>\n",
       "    </tr>\n",
       "    <tr>\n",
       "      <th>4</th>\n",
       "      <td>Indiana</td>\n",
       "      <td>103</td>\n",
       "    </tr>\n",
       "    <tr>\n",
       "      <th>5</th>\n",
       "      <td>Kentucky</td>\n",
       "      <td>104</td>\n",
       "    </tr>\n",
       "    <tr>\n",
       "      <th>6</th>\n",
       "      <td>Louisiana</td>\n",
       "      <td>8</td>\n",
       "    </tr>\n",
       "    <tr>\n",
       "      <th>7</th>\n",
       "      <td>Michigan</td>\n",
       "      <td>120</td>\n",
       "    </tr>\n",
       "    <tr>\n",
       "      <th>8</th>\n",
       "      <td>Missouri</td>\n",
       "      <td>3</td>\n",
       "    </tr>\n",
       "    <tr>\n",
       "      <th>9</th>\n",
       "      <td>Mississippi</td>\n",
       "      <td>29</td>\n",
       "    </tr>\n",
       "    <tr>\n",
       "      <th>10</th>\n",
       "      <td>Ohio</td>\n",
       "      <td>196</td>\n",
       "    </tr>\n",
       "    <tr>\n",
       "      <th>11</th>\n",
       "      <td>South Carolina</td>\n",
       "      <td>13</td>\n",
       "    </tr>\n",
       "    <tr>\n",
       "      <th>12</th>\n",
       "      <td>Tennessee</td>\n",
       "      <td>115</td>\n",
       "    </tr>\n",
       "    <tr>\n",
       "      <th>13</th>\n",
       "      <td>Texas</td>\n",
       "      <td>209</td>\n",
       "    </tr>\n",
       "    <tr>\n",
       "      <th>14</th>\n",
       "      <td>Virgina</td>\n",
       "      <td>68</td>\n",
       "    </tr>\n",
       "    <tr>\n",
       "      <th>15</th>\n",
       "      <td>West Virgina</td>\n",
       "      <td>38</td>\n",
       "    </tr>\n",
       "  </tbody>\n",
       "</table>\n",
       "</div>"
      ],
      "text/plain": [
       "             State  Number of stores\n",
       "0          Alabama                10\n",
       "1         Arkansas                26\n",
       "2          Georgia               167\n",
       "3         Illinois                30\n",
       "4          Indiana               103\n",
       "5         Kentucky               104\n",
       "6        Louisiana                 8\n",
       "7         Michigan               120\n",
       "8         Missouri                 3\n",
       "9      Mississippi                29\n",
       "10            Ohio               196\n",
       "11  South Carolina                13\n",
       "12       Tennessee               115\n",
       "13           Texas               209\n",
       "14         Virgina                68\n",
       "15    West Virgina                38"
      ]
     },
     "execution_count": 21,
     "metadata": {},
     "output_type": "execute_result"
    }
   ],
   "source": [
    "kro = pd.read_csv('Kroger.csv')\n",
    "kro"
   ]
  },
  {
   "cell_type": "code",
   "execution_count": 22,
   "id": "eac7e304",
   "metadata": {},
   "outputs": [
    {
     "data": {
      "text/html": [
       "<div>\n",
       "<style scoped>\n",
       "    .dataframe tbody tr th:only-of-type {\n",
       "        vertical-align: middle;\n",
       "    }\n",
       "\n",
       "    .dataframe tbody tr th {\n",
       "        vertical-align: top;\n",
       "    }\n",
       "\n",
       "    .dataframe thead th {\n",
       "        text-align: right;\n",
       "    }\n",
       "</style>\n",
       "<table border=\"1\" class=\"dataframe\">\n",
       "  <thead>\n",
       "    <tr style=\"text-align: right;\">\n",
       "      <th></th>\n",
       "      <th>State</th>\n",
       "      <th>Number of stores</th>\n",
       "      <th>ids</th>\n",
       "    </tr>\n",
       "  </thead>\n",
       "  <tbody>\n",
       "    <tr>\n",
       "      <th>0</th>\n",
       "      <td>Alabama</td>\n",
       "      <td>10</td>\n",
       "      <td></td>\n",
       "    </tr>\n",
       "    <tr>\n",
       "      <th>1</th>\n",
       "      <td>Arkansas</td>\n",
       "      <td>26</td>\n",
       "      <td></td>\n",
       "    </tr>\n",
       "    <tr>\n",
       "      <th>2</th>\n",
       "      <td>Georgia</td>\n",
       "      <td>167</td>\n",
       "      <td></td>\n",
       "    </tr>\n",
       "    <tr>\n",
       "      <th>3</th>\n",
       "      <td>Illinois</td>\n",
       "      <td>30</td>\n",
       "      <td></td>\n",
       "    </tr>\n",
       "    <tr>\n",
       "      <th>4</th>\n",
       "      <td>Indiana</td>\n",
       "      <td>103</td>\n",
       "      <td></td>\n",
       "    </tr>\n",
       "    <tr>\n",
       "      <th>5</th>\n",
       "      <td>Kentucky</td>\n",
       "      <td>104</td>\n",
       "      <td></td>\n",
       "    </tr>\n",
       "    <tr>\n",
       "      <th>6</th>\n",
       "      <td>Louisiana</td>\n",
       "      <td>8</td>\n",
       "      <td></td>\n",
       "    </tr>\n",
       "    <tr>\n",
       "      <th>7</th>\n",
       "      <td>Michigan</td>\n",
       "      <td>120</td>\n",
       "      <td></td>\n",
       "    </tr>\n",
       "    <tr>\n",
       "      <th>8</th>\n",
       "      <td>Missouri</td>\n",
       "      <td>3</td>\n",
       "      <td></td>\n",
       "    </tr>\n",
       "    <tr>\n",
       "      <th>9</th>\n",
       "      <td>Mississippi</td>\n",
       "      <td>29</td>\n",
       "      <td></td>\n",
       "    </tr>\n",
       "    <tr>\n",
       "      <th>10</th>\n",
       "      <td>Ohio</td>\n",
       "      <td>196</td>\n",
       "      <td></td>\n",
       "    </tr>\n",
       "    <tr>\n",
       "      <th>11</th>\n",
       "      <td>South Carolina</td>\n",
       "      <td>13</td>\n",
       "      <td></td>\n",
       "    </tr>\n",
       "    <tr>\n",
       "      <th>12</th>\n",
       "      <td>Tennessee</td>\n",
       "      <td>115</td>\n",
       "      <td></td>\n",
       "    </tr>\n",
       "    <tr>\n",
       "      <th>13</th>\n",
       "      <td>Texas</td>\n",
       "      <td>209</td>\n",
       "      <td></td>\n",
       "    </tr>\n",
       "    <tr>\n",
       "      <th>14</th>\n",
       "      <td>Virgina</td>\n",
       "      <td>68</td>\n",
       "      <td></td>\n",
       "    </tr>\n",
       "    <tr>\n",
       "      <th>15</th>\n",
       "      <td>West Virgina</td>\n",
       "      <td>38</td>\n",
       "      <td></td>\n",
       "    </tr>\n",
       "  </tbody>\n",
       "</table>\n",
       "</div>"
      ],
      "text/plain": [
       "             State  Number of stores ids\n",
       "0          Alabama                10    \n",
       "1         Arkansas                26    \n",
       "2          Georgia               167    \n",
       "3         Illinois                30    \n",
       "4          Indiana               103    \n",
       "5         Kentucky               104    \n",
       "6        Louisiana                 8    \n",
       "7         Michigan               120    \n",
       "8         Missouri                 3    \n",
       "9      Mississippi                29    \n",
       "10            Ohio               196    \n",
       "11  South Carolina                13    \n",
       "12       Tennessee               115    \n",
       "13           Texas               209    \n",
       "14         Virgina                68    \n",
       "15    West Virgina                38    "
      ]
     },
     "execution_count": 22,
     "metadata": {},
     "output_type": "execute_result"
    }
   ],
   "source": [
    "kro[\"ids\"]=kro.apply(lambda _:\"\",axis=1)\n",
    "kro"
   ]
  },
  {
   "cell_type": "markdown",
   "id": "cd51491c",
   "metadata": {},
   "source": [
    "Unfortunatly, some of the state names where misspelled. So we used the .loc function to correct the data."
   ]
  },
  {
   "cell_type": "code",
   "execution_count": 27,
   "id": "7197c54f",
   "metadata": {},
   "outputs": [],
   "source": [
    "#Virginia is misplelled so I needed to fix it\n",
    "kro.loc[kro[\"State\"]==\"West Virgina\",\"State\"]=\"West Virginia\"\n",
    "kro.loc[kro[\"State\"]==\"Virgina\",\"State\"]=\"Virginia\"\n",
    "alb.loc[alb[\"State\"]==\"Motana\",\"State\"]=\"Montana\""
   ]
  },
  {
   "cell_type": "markdown",
   "id": "bc820d7a",
   "metadata": {},
   "source": [
    "We created a new dictionary; since, states was a nested dictionary. Then we iterated over the dictionary and checked if a key was in each data frame. If it is the data frame's ids column is updated with the state id."
   ]
  },
  {
   "cell_type": "code",
   "execution_count": 28,
   "id": "1b1861a3",
   "metadata": {},
   "outputs": [
    {
     "data": {
      "text/html": [
       "<div>\n",
       "<style scoped>\n",
       "    .dataframe tbody tr th:only-of-type {\n",
       "        vertical-align: middle;\n",
       "    }\n",
       "\n",
       "    .dataframe tbody tr th {\n",
       "        vertical-align: top;\n",
       "    }\n",
       "\n",
       "    .dataframe thead th {\n",
       "        text-align: right;\n",
       "    }\n",
       "</style>\n",
       "<table border=\"1\" class=\"dataframe\">\n",
       "  <thead>\n",
       "    <tr style=\"text-align: right;\">\n",
       "      <th></th>\n",
       "      <th>State</th>\n",
       "      <th>Number of Stores</th>\n",
       "      <th>ids</th>\n",
       "    </tr>\n",
       "  </thead>\n",
       "  <tbody>\n",
       "    <tr>\n",
       "      <th>0</th>\n",
       "      <td>Arizona</td>\n",
       "      <td>30</td>\n",
       "      <td>AZ</td>\n",
       "    </tr>\n",
       "    <tr>\n",
       "      <th>1</th>\n",
       "      <td>Arkansas</td>\n",
       "      <td>1</td>\n",
       "      <td>AR</td>\n",
       "    </tr>\n",
       "    <tr>\n",
       "      <th>2</th>\n",
       "      <td>California</td>\n",
       "      <td>125</td>\n",
       "      <td>CA</td>\n",
       "    </tr>\n",
       "    <tr>\n",
       "      <th>3</th>\n",
       "      <td>Colorado</td>\n",
       "      <td>2</td>\n",
       "      <td>CO</td>\n",
       "    </tr>\n",
       "    <tr>\n",
       "      <th>4</th>\n",
       "      <td>Idaho</td>\n",
       "      <td>39</td>\n",
       "      <td>ID</td>\n",
       "    </tr>\n",
       "    <tr>\n",
       "      <th>5</th>\n",
       "      <td>Louisiana</td>\n",
       "      <td>16</td>\n",
       "      <td>LA</td>\n",
       "    </tr>\n",
       "    <tr>\n",
       "      <th>6</th>\n",
       "      <td>Montana</td>\n",
       "      <td>29</td>\n",
       "      <td>MT</td>\n",
       "    </tr>\n",
       "    <tr>\n",
       "      <th>7</th>\n",
       "      <td>Nevada</td>\n",
       "      <td>35</td>\n",
       "      <td>NV</td>\n",
       "    </tr>\n",
       "    <tr>\n",
       "      <th>8</th>\n",
       "      <td>New Mexico</td>\n",
       "      <td>6</td>\n",
       "      <td>NM</td>\n",
       "    </tr>\n",
       "    <tr>\n",
       "      <th>9</th>\n",
       "      <td>North Dakota</td>\n",
       "      <td>1</td>\n",
       "      <td>ND</td>\n",
       "    </tr>\n",
       "    <tr>\n",
       "      <th>10</th>\n",
       "      <td>Oregon</td>\n",
       "      <td>29</td>\n",
       "      <td>OR</td>\n",
       "    </tr>\n",
       "    <tr>\n",
       "      <th>11</th>\n",
       "      <td>Texas</td>\n",
       "      <td>43</td>\n",
       "      <td>TX</td>\n",
       "    </tr>\n",
       "    <tr>\n",
       "      <th>12</th>\n",
       "      <td>Utah</td>\n",
       "      <td>2</td>\n",
       "      <td>UT</td>\n",
       "    </tr>\n",
       "    <tr>\n",
       "      <th>13</th>\n",
       "      <td>Washington</td>\n",
       "      <td>19</td>\n",
       "      <td>WA</td>\n",
       "    </tr>\n",
       "    <tr>\n",
       "      <th>14</th>\n",
       "      <td>Wyoming</td>\n",
       "      <td>9</td>\n",
       "      <td>WY</td>\n",
       "    </tr>\n",
       "  </tbody>\n",
       "</table>\n",
       "</div>"
      ],
      "text/plain": [
       "           State  Number of Stores ids\n",
       "0        Arizona                30  AZ\n",
       "1       Arkansas                 1  AR\n",
       "2     California               125  CA\n",
       "3       Colorado                 2  CO\n",
       "4          Idaho                39  ID\n",
       "5      Louisiana                16  LA\n",
       "6        Montana                29  MT\n",
       "7         Nevada                35  NV\n",
       "8     New Mexico                 6  NM\n",
       "9   North Dakota                 1  ND\n",
       "10        Oregon                29  OR\n",
       "11         Texas                43  TX\n",
       "12          Utah                 2  UT\n",
       "13    Washington                19  WA\n",
       "14       Wyoming                 9  WY"
      ]
     },
     "execution_count": 28,
     "metadata": {},
     "output_type": "execute_result"
    }
   ],
   "source": [
    "s = states[\"code\"]\n",
    "\n",
    "for k, v in s.items():\n",
    "    if k in alb.State.values:\n",
    "        alb.loc[alb[\"State\"]==k,\"ids\"]=v\n",
    "    if k in kro.State.values:\n",
    "        kro.loc[kro[\"State\"]==k,\"ids\"]=v\n",
    "alb"
   ]
  },
  {
   "cell_type": "markdown",
   "id": "312ddf7a",
   "metadata": {},
   "source": [
    "Using the plotly.express we created choropleth with the cleaned data from the alb and kro data frames. Using the ids column as a key and heat colors to show the intensity of the number of stores. The data came from https://www.scrapehero.com/location-reports/Albertsons-USA/ and\n",
    "https://www.scrapehero.com/kroger-store-locations/"
   ]
  },
  {
   "cell_type": "code",
   "execution_count": 40,
   "id": "b0788d58",
   "metadata": {},
   "outputs": [
    {
     "data": {
      "application/vnd.plotly.v1+json": {
       "config": {
        "plotlyServerURL": "https://plot.ly"
       },
       "data": [
        {
         "coloraxis": "coloraxis",
         "geo": "geo",
         "hovertemplate": "ids=%{location}<br>Number of Stores=%{z}<extra></extra>",
         "locationmode": "USA-states",
         "locations": [
          "AZ",
          "AR",
          "CA",
          "CO",
          "ID",
          "LA",
          "MT",
          "NV",
          "NM",
          "ND",
          "OR",
          "TX",
          "UT",
          "WA",
          "WY"
         ],
         "name": "",
         "type": "choropleth",
         "z": [
          30,
          1,
          125,
          2,
          39,
          16,
          29,
          35,
          6,
          1,
          29,
          43,
          2,
          19,
          9
         ]
        }
       ],
       "layout": {
        "coloraxis": {
         "colorbar": {
          "title": {
           "text": "Number of Stores"
          }
         },
         "colorscale": [
          [
           0,
           "#0d0887"
          ],
          [
           0.1111111111111111,
           "#46039f"
          ],
          [
           0.2222222222222222,
           "#7201a8"
          ],
          [
           0.3333333333333333,
           "#9c179e"
          ],
          [
           0.4444444444444444,
           "#bd3786"
          ],
          [
           0.5555555555555556,
           "#d8576b"
          ],
          [
           0.6666666666666666,
           "#ed7953"
          ],
          [
           0.7777777777777778,
           "#fb9f3a"
          ],
          [
           0.8888888888888888,
           "#fdca26"
          ],
          [
           1,
           "#f0f921"
          ]
         ]
        },
        "geo": {
         "center": {},
         "domain": {
          "x": [
           0,
           1
          ],
          "y": [
           0,
           1
          ]
         },
         "scope": "usa"
        },
        "legend": {
         "tracegroupgap": 0
        },
        "template": {
         "data": {
          "bar": [
           {
            "error_x": {
             "color": "#2a3f5f"
            },
            "error_y": {
             "color": "#2a3f5f"
            },
            "marker": {
             "line": {
              "color": "#E5ECF6",
              "width": 0.5
             },
             "pattern": {
              "fillmode": "overlay",
              "size": 10,
              "solidity": 0.2
             }
            },
            "type": "bar"
           }
          ],
          "barpolar": [
           {
            "marker": {
             "line": {
              "color": "#E5ECF6",
              "width": 0.5
             },
             "pattern": {
              "fillmode": "overlay",
              "size": 10,
              "solidity": 0.2
             }
            },
            "type": "barpolar"
           }
          ],
          "carpet": [
           {
            "aaxis": {
             "endlinecolor": "#2a3f5f",
             "gridcolor": "white",
             "linecolor": "white",
             "minorgridcolor": "white",
             "startlinecolor": "#2a3f5f"
            },
            "baxis": {
             "endlinecolor": "#2a3f5f",
             "gridcolor": "white",
             "linecolor": "white",
             "minorgridcolor": "white",
             "startlinecolor": "#2a3f5f"
            },
            "type": "carpet"
           }
          ],
          "choropleth": [
           {
            "colorbar": {
             "outlinewidth": 0,
             "ticks": ""
            },
            "type": "choropleth"
           }
          ],
          "contour": [
           {
            "colorbar": {
             "outlinewidth": 0,
             "ticks": ""
            },
            "colorscale": [
             [
              0,
              "#0d0887"
             ],
             [
              0.1111111111111111,
              "#46039f"
             ],
             [
              0.2222222222222222,
              "#7201a8"
             ],
             [
              0.3333333333333333,
              "#9c179e"
             ],
             [
              0.4444444444444444,
              "#bd3786"
             ],
             [
              0.5555555555555556,
              "#d8576b"
             ],
             [
              0.6666666666666666,
              "#ed7953"
             ],
             [
              0.7777777777777778,
              "#fb9f3a"
             ],
             [
              0.8888888888888888,
              "#fdca26"
             ],
             [
              1,
              "#f0f921"
             ]
            ],
            "type": "contour"
           }
          ],
          "contourcarpet": [
           {
            "colorbar": {
             "outlinewidth": 0,
             "ticks": ""
            },
            "type": "contourcarpet"
           }
          ],
          "heatmap": [
           {
            "colorbar": {
             "outlinewidth": 0,
             "ticks": ""
            },
            "colorscale": [
             [
              0,
              "#0d0887"
             ],
             [
              0.1111111111111111,
              "#46039f"
             ],
             [
              0.2222222222222222,
              "#7201a8"
             ],
             [
              0.3333333333333333,
              "#9c179e"
             ],
             [
              0.4444444444444444,
              "#bd3786"
             ],
             [
              0.5555555555555556,
              "#d8576b"
             ],
             [
              0.6666666666666666,
              "#ed7953"
             ],
             [
              0.7777777777777778,
              "#fb9f3a"
             ],
             [
              0.8888888888888888,
              "#fdca26"
             ],
             [
              1,
              "#f0f921"
             ]
            ],
            "type": "heatmap"
           }
          ],
          "heatmapgl": [
           {
            "colorbar": {
             "outlinewidth": 0,
             "ticks": ""
            },
            "colorscale": [
             [
              0,
              "#0d0887"
             ],
             [
              0.1111111111111111,
              "#46039f"
             ],
             [
              0.2222222222222222,
              "#7201a8"
             ],
             [
              0.3333333333333333,
              "#9c179e"
             ],
             [
              0.4444444444444444,
              "#bd3786"
             ],
             [
              0.5555555555555556,
              "#d8576b"
             ],
             [
              0.6666666666666666,
              "#ed7953"
             ],
             [
              0.7777777777777778,
              "#fb9f3a"
             ],
             [
              0.8888888888888888,
              "#fdca26"
             ],
             [
              1,
              "#f0f921"
             ]
            ],
            "type": "heatmapgl"
           }
          ],
          "histogram": [
           {
            "marker": {
             "pattern": {
              "fillmode": "overlay",
              "size": 10,
              "solidity": 0.2
             }
            },
            "type": "histogram"
           }
          ],
          "histogram2d": [
           {
            "colorbar": {
             "outlinewidth": 0,
             "ticks": ""
            },
            "colorscale": [
             [
              0,
              "#0d0887"
             ],
             [
              0.1111111111111111,
              "#46039f"
             ],
             [
              0.2222222222222222,
              "#7201a8"
             ],
             [
              0.3333333333333333,
              "#9c179e"
             ],
             [
              0.4444444444444444,
              "#bd3786"
             ],
             [
              0.5555555555555556,
              "#d8576b"
             ],
             [
              0.6666666666666666,
              "#ed7953"
             ],
             [
              0.7777777777777778,
              "#fb9f3a"
             ],
             [
              0.8888888888888888,
              "#fdca26"
             ],
             [
              1,
              "#f0f921"
             ]
            ],
            "type": "histogram2d"
           }
          ],
          "histogram2dcontour": [
           {
            "colorbar": {
             "outlinewidth": 0,
             "ticks": ""
            },
            "colorscale": [
             [
              0,
              "#0d0887"
             ],
             [
              0.1111111111111111,
              "#46039f"
             ],
             [
              0.2222222222222222,
              "#7201a8"
             ],
             [
              0.3333333333333333,
              "#9c179e"
             ],
             [
              0.4444444444444444,
              "#bd3786"
             ],
             [
              0.5555555555555556,
              "#d8576b"
             ],
             [
              0.6666666666666666,
              "#ed7953"
             ],
             [
              0.7777777777777778,
              "#fb9f3a"
             ],
             [
              0.8888888888888888,
              "#fdca26"
             ],
             [
              1,
              "#f0f921"
             ]
            ],
            "type": "histogram2dcontour"
           }
          ],
          "mesh3d": [
           {
            "colorbar": {
             "outlinewidth": 0,
             "ticks": ""
            },
            "type": "mesh3d"
           }
          ],
          "parcoords": [
           {
            "line": {
             "colorbar": {
              "outlinewidth": 0,
              "ticks": ""
             }
            },
            "type": "parcoords"
           }
          ],
          "pie": [
           {
            "automargin": true,
            "type": "pie"
           }
          ],
          "scatter": [
           {
            "marker": {
             "colorbar": {
              "outlinewidth": 0,
              "ticks": ""
             }
            },
            "type": "scatter"
           }
          ],
          "scatter3d": [
           {
            "line": {
             "colorbar": {
              "outlinewidth": 0,
              "ticks": ""
             }
            },
            "marker": {
             "colorbar": {
              "outlinewidth": 0,
              "ticks": ""
             }
            },
            "type": "scatter3d"
           }
          ],
          "scattercarpet": [
           {
            "marker": {
             "colorbar": {
              "outlinewidth": 0,
              "ticks": ""
             }
            },
            "type": "scattercarpet"
           }
          ],
          "scattergeo": [
           {
            "marker": {
             "colorbar": {
              "outlinewidth": 0,
              "ticks": ""
             }
            },
            "type": "scattergeo"
           }
          ],
          "scattergl": [
           {
            "marker": {
             "colorbar": {
              "outlinewidth": 0,
              "ticks": ""
             }
            },
            "type": "scattergl"
           }
          ],
          "scattermapbox": [
           {
            "marker": {
             "colorbar": {
              "outlinewidth": 0,
              "ticks": ""
             }
            },
            "type": "scattermapbox"
           }
          ],
          "scatterpolar": [
           {
            "marker": {
             "colorbar": {
              "outlinewidth": 0,
              "ticks": ""
             }
            },
            "type": "scatterpolar"
           }
          ],
          "scatterpolargl": [
           {
            "marker": {
             "colorbar": {
              "outlinewidth": 0,
              "ticks": ""
             }
            },
            "type": "scatterpolargl"
           }
          ],
          "scatterternary": [
           {
            "marker": {
             "colorbar": {
              "outlinewidth": 0,
              "ticks": ""
             }
            },
            "type": "scatterternary"
           }
          ],
          "surface": [
           {
            "colorbar": {
             "outlinewidth": 0,
             "ticks": ""
            },
            "colorscale": [
             [
              0,
              "#0d0887"
             ],
             [
              0.1111111111111111,
              "#46039f"
             ],
             [
              0.2222222222222222,
              "#7201a8"
             ],
             [
              0.3333333333333333,
              "#9c179e"
             ],
             [
              0.4444444444444444,
              "#bd3786"
             ],
             [
              0.5555555555555556,
              "#d8576b"
             ],
             [
              0.6666666666666666,
              "#ed7953"
             ],
             [
              0.7777777777777778,
              "#fb9f3a"
             ],
             [
              0.8888888888888888,
              "#fdca26"
             ],
             [
              1,
              "#f0f921"
             ]
            ],
            "type": "surface"
           }
          ],
          "table": [
           {
            "cells": {
             "fill": {
              "color": "#EBF0F8"
             },
             "line": {
              "color": "white"
             }
            },
            "header": {
             "fill": {
              "color": "#C8D4E3"
             },
             "line": {
              "color": "white"
             }
            },
            "type": "table"
           }
          ]
         },
         "layout": {
          "annotationdefaults": {
           "arrowcolor": "#2a3f5f",
           "arrowhead": 0,
           "arrowwidth": 1
          },
          "autotypenumbers": "strict",
          "coloraxis": {
           "colorbar": {
            "outlinewidth": 0,
            "ticks": ""
           }
          },
          "colorscale": {
           "diverging": [
            [
             0,
             "#8e0152"
            ],
            [
             0.1,
             "#c51b7d"
            ],
            [
             0.2,
             "#de77ae"
            ],
            [
             0.3,
             "#f1b6da"
            ],
            [
             0.4,
             "#fde0ef"
            ],
            [
             0.5,
             "#f7f7f7"
            ],
            [
             0.6,
             "#e6f5d0"
            ],
            [
             0.7,
             "#b8e186"
            ],
            [
             0.8,
             "#7fbc41"
            ],
            [
             0.9,
             "#4d9221"
            ],
            [
             1,
             "#276419"
            ]
           ],
           "sequential": [
            [
             0,
             "#0d0887"
            ],
            [
             0.1111111111111111,
             "#46039f"
            ],
            [
             0.2222222222222222,
             "#7201a8"
            ],
            [
             0.3333333333333333,
             "#9c179e"
            ],
            [
             0.4444444444444444,
             "#bd3786"
            ],
            [
             0.5555555555555556,
             "#d8576b"
            ],
            [
             0.6666666666666666,
             "#ed7953"
            ],
            [
             0.7777777777777778,
             "#fb9f3a"
            ],
            [
             0.8888888888888888,
             "#fdca26"
            ],
            [
             1,
             "#f0f921"
            ]
           ],
           "sequentialminus": [
            [
             0,
             "#0d0887"
            ],
            [
             0.1111111111111111,
             "#46039f"
            ],
            [
             0.2222222222222222,
             "#7201a8"
            ],
            [
             0.3333333333333333,
             "#9c179e"
            ],
            [
             0.4444444444444444,
             "#bd3786"
            ],
            [
             0.5555555555555556,
             "#d8576b"
            ],
            [
             0.6666666666666666,
             "#ed7953"
            ],
            [
             0.7777777777777778,
             "#fb9f3a"
            ],
            [
             0.8888888888888888,
             "#fdca26"
            ],
            [
             1,
             "#f0f921"
            ]
           ]
          },
          "colorway": [
           "#636efa",
           "#EF553B",
           "#00cc96",
           "#ab63fa",
           "#FFA15A",
           "#19d3f3",
           "#FF6692",
           "#B6E880",
           "#FF97FF",
           "#FECB52"
          ],
          "font": {
           "color": "#2a3f5f"
          },
          "geo": {
           "bgcolor": "white",
           "lakecolor": "white",
           "landcolor": "#E5ECF6",
           "showlakes": true,
           "showland": true,
           "subunitcolor": "white"
          },
          "hoverlabel": {
           "align": "left"
          },
          "hovermode": "closest",
          "mapbox": {
           "style": "light"
          },
          "paper_bgcolor": "white",
          "plot_bgcolor": "#E5ECF6",
          "polar": {
           "angularaxis": {
            "gridcolor": "white",
            "linecolor": "white",
            "ticks": ""
           },
           "bgcolor": "#E5ECF6",
           "radialaxis": {
            "gridcolor": "white",
            "linecolor": "white",
            "ticks": ""
           }
          },
          "scene": {
           "xaxis": {
            "backgroundcolor": "#E5ECF6",
            "gridcolor": "white",
            "gridwidth": 2,
            "linecolor": "white",
            "showbackground": true,
            "ticks": "",
            "zerolinecolor": "white"
           },
           "yaxis": {
            "backgroundcolor": "#E5ECF6",
            "gridcolor": "white",
            "gridwidth": 2,
            "linecolor": "white",
            "showbackground": true,
            "ticks": "",
            "zerolinecolor": "white"
           },
           "zaxis": {
            "backgroundcolor": "#E5ECF6",
            "gridcolor": "white",
            "gridwidth": 2,
            "linecolor": "white",
            "showbackground": true,
            "ticks": "",
            "zerolinecolor": "white"
           }
          },
          "shapedefaults": {
           "line": {
            "color": "#2a3f5f"
           }
          },
          "ternary": {
           "aaxis": {
            "gridcolor": "white",
            "linecolor": "white",
            "ticks": ""
           },
           "baxis": {
            "gridcolor": "white",
            "linecolor": "white",
            "ticks": ""
           },
           "bgcolor": "#E5ECF6",
           "caxis": {
            "gridcolor": "white",
            "linecolor": "white",
            "ticks": ""
           }
          },
          "title": {
           "x": 0.05
          },
          "xaxis": {
           "automargin": true,
           "gridcolor": "white",
           "linecolor": "white",
           "ticks": "",
           "title": {
            "standoff": 15
           },
           "zerolinecolor": "white",
           "zerolinewidth": 2
          },
          "yaxis": {
           "automargin": true,
           "gridcolor": "white",
           "linecolor": "white",
           "ticks": "",
           "title": {
            "standoff": 15
           },
           "zerolinecolor": "white",
           "zerolinewidth": 2
          }
         }
        },
        "title": {
         "text": "No. Albertsons Locations"
        }
       }
      },
      "text/html": [
       "<div>                            <div id=\"774d97b8-9e51-4ac3-9e70-c83f9546032a\" class=\"plotly-graph-div\" style=\"height:525px; width:100%;\"></div>            <script type=\"text/javascript\">                require([\"plotly\"], function(Plotly) {                    window.PLOTLYENV=window.PLOTLYENV || {};                                    if (document.getElementById(\"774d97b8-9e51-4ac3-9e70-c83f9546032a\")) {                    Plotly.newPlot(                        \"774d97b8-9e51-4ac3-9e70-c83f9546032a\",                        [{\"coloraxis\":\"coloraxis\",\"geo\":\"geo\",\"hovertemplate\":\"ids=%{location}<br>Number of Stores=%{z}<extra></extra>\",\"locationmode\":\"USA-states\",\"locations\":[\"AZ\",\"AR\",\"CA\",\"CO\",\"ID\",\"LA\",\"MT\",\"NV\",\"NM\",\"ND\",\"OR\",\"TX\",\"UT\",\"WA\",\"WY\"],\"name\":\"\",\"z\":[30,1,125,2,39,16,29,35,6,1,29,43,2,19,9],\"type\":\"choropleth\"}],                        {\"template\":{\"data\":{\"bar\":[{\"error_x\":{\"color\":\"#2a3f5f\"},\"error_y\":{\"color\":\"#2a3f5f\"},\"marker\":{\"line\":{\"color\":\"#E5ECF6\",\"width\":0.5},\"pattern\":{\"fillmode\":\"overlay\",\"size\":10,\"solidity\":0.2}},\"type\":\"bar\"}],\"barpolar\":[{\"marker\":{\"line\":{\"color\":\"#E5ECF6\",\"width\":0.5},\"pattern\":{\"fillmode\":\"overlay\",\"size\":10,\"solidity\":0.2}},\"type\":\"barpolar\"}],\"carpet\":[{\"aaxis\":{\"endlinecolor\":\"#2a3f5f\",\"gridcolor\":\"white\",\"linecolor\":\"white\",\"minorgridcolor\":\"white\",\"startlinecolor\":\"#2a3f5f\"},\"baxis\":{\"endlinecolor\":\"#2a3f5f\",\"gridcolor\":\"white\",\"linecolor\":\"white\",\"minorgridcolor\":\"white\",\"startlinecolor\":\"#2a3f5f\"},\"type\":\"carpet\"}],\"choropleth\":[{\"colorbar\":{\"outlinewidth\":0,\"ticks\":\"\"},\"type\":\"choropleth\"}],\"contour\":[{\"colorbar\":{\"outlinewidth\":0,\"ticks\":\"\"},\"colorscale\":[[0.0,\"#0d0887\"],[0.1111111111111111,\"#46039f\"],[0.2222222222222222,\"#7201a8\"],[0.3333333333333333,\"#9c179e\"],[0.4444444444444444,\"#bd3786\"],[0.5555555555555556,\"#d8576b\"],[0.6666666666666666,\"#ed7953\"],[0.7777777777777778,\"#fb9f3a\"],[0.8888888888888888,\"#fdca26\"],[1.0,\"#f0f921\"]],\"type\":\"contour\"}],\"contourcarpet\":[{\"colorbar\":{\"outlinewidth\":0,\"ticks\":\"\"},\"type\":\"contourcarpet\"}],\"heatmap\":[{\"colorbar\":{\"outlinewidth\":0,\"ticks\":\"\"},\"colorscale\":[[0.0,\"#0d0887\"],[0.1111111111111111,\"#46039f\"],[0.2222222222222222,\"#7201a8\"],[0.3333333333333333,\"#9c179e\"],[0.4444444444444444,\"#bd3786\"],[0.5555555555555556,\"#d8576b\"],[0.6666666666666666,\"#ed7953\"],[0.7777777777777778,\"#fb9f3a\"],[0.8888888888888888,\"#fdca26\"],[1.0,\"#f0f921\"]],\"type\":\"heatmap\"}],\"heatmapgl\":[{\"colorbar\":{\"outlinewidth\":0,\"ticks\":\"\"},\"colorscale\":[[0.0,\"#0d0887\"],[0.1111111111111111,\"#46039f\"],[0.2222222222222222,\"#7201a8\"],[0.3333333333333333,\"#9c179e\"],[0.4444444444444444,\"#bd3786\"],[0.5555555555555556,\"#d8576b\"],[0.6666666666666666,\"#ed7953\"],[0.7777777777777778,\"#fb9f3a\"],[0.8888888888888888,\"#fdca26\"],[1.0,\"#f0f921\"]],\"type\":\"heatmapgl\"}],\"histogram\":[{\"marker\":{\"pattern\":{\"fillmode\":\"overlay\",\"size\":10,\"solidity\":0.2}},\"type\":\"histogram\"}],\"histogram2d\":[{\"colorbar\":{\"outlinewidth\":0,\"ticks\":\"\"},\"colorscale\":[[0.0,\"#0d0887\"],[0.1111111111111111,\"#46039f\"],[0.2222222222222222,\"#7201a8\"],[0.3333333333333333,\"#9c179e\"],[0.4444444444444444,\"#bd3786\"],[0.5555555555555556,\"#d8576b\"],[0.6666666666666666,\"#ed7953\"],[0.7777777777777778,\"#fb9f3a\"],[0.8888888888888888,\"#fdca26\"],[1.0,\"#f0f921\"]],\"type\":\"histogram2d\"}],\"histogram2dcontour\":[{\"colorbar\":{\"outlinewidth\":0,\"ticks\":\"\"},\"colorscale\":[[0.0,\"#0d0887\"],[0.1111111111111111,\"#46039f\"],[0.2222222222222222,\"#7201a8\"],[0.3333333333333333,\"#9c179e\"],[0.4444444444444444,\"#bd3786\"],[0.5555555555555556,\"#d8576b\"],[0.6666666666666666,\"#ed7953\"],[0.7777777777777778,\"#fb9f3a\"],[0.8888888888888888,\"#fdca26\"],[1.0,\"#f0f921\"]],\"type\":\"histogram2dcontour\"}],\"mesh3d\":[{\"colorbar\":{\"outlinewidth\":0,\"ticks\":\"\"},\"type\":\"mesh3d\"}],\"parcoords\":[{\"line\":{\"colorbar\":{\"outlinewidth\":0,\"ticks\":\"\"}},\"type\":\"parcoords\"}],\"pie\":[{\"automargin\":true,\"type\":\"pie\"}],\"scatter\":[{\"marker\":{\"colorbar\":{\"outlinewidth\":0,\"ticks\":\"\"}},\"type\":\"scatter\"}],\"scatter3d\":[{\"line\":{\"colorbar\":{\"outlinewidth\":0,\"ticks\":\"\"}},\"marker\":{\"colorbar\":{\"outlinewidth\":0,\"ticks\":\"\"}},\"type\":\"scatter3d\"}],\"scattercarpet\":[{\"marker\":{\"colorbar\":{\"outlinewidth\":0,\"ticks\":\"\"}},\"type\":\"scattercarpet\"}],\"scattergeo\":[{\"marker\":{\"colorbar\":{\"outlinewidth\":0,\"ticks\":\"\"}},\"type\":\"scattergeo\"}],\"scattergl\":[{\"marker\":{\"colorbar\":{\"outlinewidth\":0,\"ticks\":\"\"}},\"type\":\"scattergl\"}],\"scattermapbox\":[{\"marker\":{\"colorbar\":{\"outlinewidth\":0,\"ticks\":\"\"}},\"type\":\"scattermapbox\"}],\"scatterpolar\":[{\"marker\":{\"colorbar\":{\"outlinewidth\":0,\"ticks\":\"\"}},\"type\":\"scatterpolar\"}],\"scatterpolargl\":[{\"marker\":{\"colorbar\":{\"outlinewidth\":0,\"ticks\":\"\"}},\"type\":\"scatterpolargl\"}],\"scatterternary\":[{\"marker\":{\"colorbar\":{\"outlinewidth\":0,\"ticks\":\"\"}},\"type\":\"scatterternary\"}],\"surface\":[{\"colorbar\":{\"outlinewidth\":0,\"ticks\":\"\"},\"colorscale\":[[0.0,\"#0d0887\"],[0.1111111111111111,\"#46039f\"],[0.2222222222222222,\"#7201a8\"],[0.3333333333333333,\"#9c179e\"],[0.4444444444444444,\"#bd3786\"],[0.5555555555555556,\"#d8576b\"],[0.6666666666666666,\"#ed7953\"],[0.7777777777777778,\"#fb9f3a\"],[0.8888888888888888,\"#fdca26\"],[1.0,\"#f0f921\"]],\"type\":\"surface\"}],\"table\":[{\"cells\":{\"fill\":{\"color\":\"#EBF0F8\"},\"line\":{\"color\":\"white\"}},\"header\":{\"fill\":{\"color\":\"#C8D4E3\"},\"line\":{\"color\":\"white\"}},\"type\":\"table\"}]},\"layout\":{\"annotationdefaults\":{\"arrowcolor\":\"#2a3f5f\",\"arrowhead\":0,\"arrowwidth\":1},\"autotypenumbers\":\"strict\",\"coloraxis\":{\"colorbar\":{\"outlinewidth\":0,\"ticks\":\"\"}},\"colorscale\":{\"diverging\":[[0,\"#8e0152\"],[0.1,\"#c51b7d\"],[0.2,\"#de77ae\"],[0.3,\"#f1b6da\"],[0.4,\"#fde0ef\"],[0.5,\"#f7f7f7\"],[0.6,\"#e6f5d0\"],[0.7,\"#b8e186\"],[0.8,\"#7fbc41\"],[0.9,\"#4d9221\"],[1,\"#276419\"]],\"sequential\":[[0.0,\"#0d0887\"],[0.1111111111111111,\"#46039f\"],[0.2222222222222222,\"#7201a8\"],[0.3333333333333333,\"#9c179e\"],[0.4444444444444444,\"#bd3786\"],[0.5555555555555556,\"#d8576b\"],[0.6666666666666666,\"#ed7953\"],[0.7777777777777778,\"#fb9f3a\"],[0.8888888888888888,\"#fdca26\"],[1.0,\"#f0f921\"]],\"sequentialminus\":[[0.0,\"#0d0887\"],[0.1111111111111111,\"#46039f\"],[0.2222222222222222,\"#7201a8\"],[0.3333333333333333,\"#9c179e\"],[0.4444444444444444,\"#bd3786\"],[0.5555555555555556,\"#d8576b\"],[0.6666666666666666,\"#ed7953\"],[0.7777777777777778,\"#fb9f3a\"],[0.8888888888888888,\"#fdca26\"],[1.0,\"#f0f921\"]]},\"colorway\":[\"#636efa\",\"#EF553B\",\"#00cc96\",\"#ab63fa\",\"#FFA15A\",\"#19d3f3\",\"#FF6692\",\"#B6E880\",\"#FF97FF\",\"#FECB52\"],\"font\":{\"color\":\"#2a3f5f\"},\"geo\":{\"bgcolor\":\"white\",\"lakecolor\":\"white\",\"landcolor\":\"#E5ECF6\",\"showlakes\":true,\"showland\":true,\"subunitcolor\":\"white\"},\"hoverlabel\":{\"align\":\"left\"},\"hovermode\":\"closest\",\"mapbox\":{\"style\":\"light\"},\"paper_bgcolor\":\"white\",\"plot_bgcolor\":\"#E5ECF6\",\"polar\":{\"angularaxis\":{\"gridcolor\":\"white\",\"linecolor\":\"white\",\"ticks\":\"\"},\"bgcolor\":\"#E5ECF6\",\"radialaxis\":{\"gridcolor\":\"white\",\"linecolor\":\"white\",\"ticks\":\"\"}},\"scene\":{\"xaxis\":{\"backgroundcolor\":\"#E5ECF6\",\"gridcolor\":\"white\",\"gridwidth\":2,\"linecolor\":\"white\",\"showbackground\":true,\"ticks\":\"\",\"zerolinecolor\":\"white\"},\"yaxis\":{\"backgroundcolor\":\"#E5ECF6\",\"gridcolor\":\"white\",\"gridwidth\":2,\"linecolor\":\"white\",\"showbackground\":true,\"ticks\":\"\",\"zerolinecolor\":\"white\"},\"zaxis\":{\"backgroundcolor\":\"#E5ECF6\",\"gridcolor\":\"white\",\"gridwidth\":2,\"linecolor\":\"white\",\"showbackground\":true,\"ticks\":\"\",\"zerolinecolor\":\"white\"}},\"shapedefaults\":{\"line\":{\"color\":\"#2a3f5f\"}},\"ternary\":{\"aaxis\":{\"gridcolor\":\"white\",\"linecolor\":\"white\",\"ticks\":\"\"},\"baxis\":{\"gridcolor\":\"white\",\"linecolor\":\"white\",\"ticks\":\"\"},\"bgcolor\":\"#E5ECF6\",\"caxis\":{\"gridcolor\":\"white\",\"linecolor\":\"white\",\"ticks\":\"\"}},\"title\":{\"x\":0.05},\"xaxis\":{\"automargin\":true,\"gridcolor\":\"white\",\"linecolor\":\"white\",\"ticks\":\"\",\"title\":{\"standoff\":15},\"zerolinecolor\":\"white\",\"zerolinewidth\":2},\"yaxis\":{\"automargin\":true,\"gridcolor\":\"white\",\"linecolor\":\"white\",\"ticks\":\"\",\"title\":{\"standoff\":15},\"zerolinecolor\":\"white\",\"zerolinewidth\":2}}},\"geo\":{\"domain\":{\"x\":[0.0,1.0],\"y\":[0.0,1.0]},\"center\":{},\"scope\":\"usa\"},\"coloraxis\":{\"colorbar\":{\"title\":{\"text\":\"Number of Stores\"}},\"colorscale\":[[0.0,\"#0d0887\"],[0.1111111111111111,\"#46039f\"],[0.2222222222222222,\"#7201a8\"],[0.3333333333333333,\"#9c179e\"],[0.4444444444444444,\"#bd3786\"],[0.5555555555555556,\"#d8576b\"],[0.6666666666666666,\"#ed7953\"],[0.7777777777777778,\"#fb9f3a\"],[0.8888888888888888,\"#fdca26\"],[1.0,\"#f0f921\"]]},\"legend\":{\"tracegroupgap\":0},\"title\":{\"text\":\"No. Albertsons Locations\"}},                        {\"responsive\": true}                    ).then(function(){\n",
       "                            \n",
       "var gd = document.getElementById('774d97b8-9e51-4ac3-9e70-c83f9546032a');\n",
       "var x = new MutationObserver(function (mutations, observer) {{\n",
       "        var display = window.getComputedStyle(gd).display;\n",
       "        if (!display || display === 'none') {{\n",
       "            console.log([gd, 'removed!']);\n",
       "            Plotly.purge(gd);\n",
       "            observer.disconnect();\n",
       "        }}\n",
       "}});\n",
       "\n",
       "// Listen for the removal of the full notebook cells\n",
       "var notebookContainer = gd.closest('#notebook-container');\n",
       "if (notebookContainer) {{\n",
       "    x.observe(notebookContainer, {childList: true});\n",
       "}}\n",
       "\n",
       "// Listen for the clearing of the current output cell\n",
       "var outputEl = gd.closest('.output');\n",
       "if (outputEl) {{\n",
       "    x.observe(outputEl, {childList: true});\n",
       "}}\n",
       "\n",
       "                        })                };                });            </script>        </div>"
      ]
     },
     "metadata": {},
     "output_type": "display_data"
    }
   ],
   "source": [
    "fig = px.choropleth(alb, locations=\"ids\",locationmode=\"USA-states\", scope=\"usa\",\n",
    "                    color=\"Number of Stores\",color_continuous_scale=\"plasma\", \n",
    "                    title=\"No. Albertsons Locations\")\n",
    "\n",
    "fig.show()"
   ]
  },
  {
   "cell_type": "code",
   "execution_count": 41,
   "id": "f5aa9f8e",
   "metadata": {},
   "outputs": [
    {
     "data": {
      "application/vnd.plotly.v1+json": {
       "config": {
        "plotlyServerURL": "https://plot.ly"
       },
       "data": [
        {
         "coloraxis": "coloraxis",
         "geo": "geo",
         "hovertemplate": "ids=%{location}<br>Number of stores=%{z}<extra></extra>",
         "locationmode": "USA-states",
         "locations": [
          "AL",
          "AR",
          "GA",
          "IL",
          "IN",
          "KY",
          "LA",
          "MI",
          "MO",
          "MS",
          "OH",
          "SC",
          "TN",
          "TX",
          "VA",
          "WV"
         ],
         "name": "",
         "type": "choropleth",
         "z": [
          10,
          26,
          167,
          30,
          103,
          104,
          8,
          120,
          3,
          29,
          196,
          13,
          115,
          209,
          68,
          38
         ]
        }
       ],
       "layout": {
        "coloraxis": {
         "colorbar": {
          "title": {
           "text": "Number of stores"
          }
         },
         "colorscale": [
          [
           0,
           "#0d0887"
          ],
          [
           0.1111111111111111,
           "#46039f"
          ],
          [
           0.2222222222222222,
           "#7201a8"
          ],
          [
           0.3333333333333333,
           "#9c179e"
          ],
          [
           0.4444444444444444,
           "#bd3786"
          ],
          [
           0.5555555555555556,
           "#d8576b"
          ],
          [
           0.6666666666666666,
           "#ed7953"
          ],
          [
           0.7777777777777778,
           "#fb9f3a"
          ],
          [
           0.8888888888888888,
           "#fdca26"
          ],
          [
           1,
           "#f0f921"
          ]
         ]
        },
        "geo": {
         "center": {},
         "domain": {
          "x": [
           0,
           1
          ],
          "y": [
           0,
           1
          ]
         },
         "scope": "usa"
        },
        "legend": {
         "tracegroupgap": 0
        },
        "template": {
         "data": {
          "bar": [
           {
            "error_x": {
             "color": "#2a3f5f"
            },
            "error_y": {
             "color": "#2a3f5f"
            },
            "marker": {
             "line": {
              "color": "#E5ECF6",
              "width": 0.5
             },
             "pattern": {
              "fillmode": "overlay",
              "size": 10,
              "solidity": 0.2
             }
            },
            "type": "bar"
           }
          ],
          "barpolar": [
           {
            "marker": {
             "line": {
              "color": "#E5ECF6",
              "width": 0.5
             },
             "pattern": {
              "fillmode": "overlay",
              "size": 10,
              "solidity": 0.2
             }
            },
            "type": "barpolar"
           }
          ],
          "carpet": [
           {
            "aaxis": {
             "endlinecolor": "#2a3f5f",
             "gridcolor": "white",
             "linecolor": "white",
             "minorgridcolor": "white",
             "startlinecolor": "#2a3f5f"
            },
            "baxis": {
             "endlinecolor": "#2a3f5f",
             "gridcolor": "white",
             "linecolor": "white",
             "minorgridcolor": "white",
             "startlinecolor": "#2a3f5f"
            },
            "type": "carpet"
           }
          ],
          "choropleth": [
           {
            "colorbar": {
             "outlinewidth": 0,
             "ticks": ""
            },
            "type": "choropleth"
           }
          ],
          "contour": [
           {
            "colorbar": {
             "outlinewidth": 0,
             "ticks": ""
            },
            "colorscale": [
             [
              0,
              "#0d0887"
             ],
             [
              0.1111111111111111,
              "#46039f"
             ],
             [
              0.2222222222222222,
              "#7201a8"
             ],
             [
              0.3333333333333333,
              "#9c179e"
             ],
             [
              0.4444444444444444,
              "#bd3786"
             ],
             [
              0.5555555555555556,
              "#d8576b"
             ],
             [
              0.6666666666666666,
              "#ed7953"
             ],
             [
              0.7777777777777778,
              "#fb9f3a"
             ],
             [
              0.8888888888888888,
              "#fdca26"
             ],
             [
              1,
              "#f0f921"
             ]
            ],
            "type": "contour"
           }
          ],
          "contourcarpet": [
           {
            "colorbar": {
             "outlinewidth": 0,
             "ticks": ""
            },
            "type": "contourcarpet"
           }
          ],
          "heatmap": [
           {
            "colorbar": {
             "outlinewidth": 0,
             "ticks": ""
            },
            "colorscale": [
             [
              0,
              "#0d0887"
             ],
             [
              0.1111111111111111,
              "#46039f"
             ],
             [
              0.2222222222222222,
              "#7201a8"
             ],
             [
              0.3333333333333333,
              "#9c179e"
             ],
             [
              0.4444444444444444,
              "#bd3786"
             ],
             [
              0.5555555555555556,
              "#d8576b"
             ],
             [
              0.6666666666666666,
              "#ed7953"
             ],
             [
              0.7777777777777778,
              "#fb9f3a"
             ],
             [
              0.8888888888888888,
              "#fdca26"
             ],
             [
              1,
              "#f0f921"
             ]
            ],
            "type": "heatmap"
           }
          ],
          "heatmapgl": [
           {
            "colorbar": {
             "outlinewidth": 0,
             "ticks": ""
            },
            "colorscale": [
             [
              0,
              "#0d0887"
             ],
             [
              0.1111111111111111,
              "#46039f"
             ],
             [
              0.2222222222222222,
              "#7201a8"
             ],
             [
              0.3333333333333333,
              "#9c179e"
             ],
             [
              0.4444444444444444,
              "#bd3786"
             ],
             [
              0.5555555555555556,
              "#d8576b"
             ],
             [
              0.6666666666666666,
              "#ed7953"
             ],
             [
              0.7777777777777778,
              "#fb9f3a"
             ],
             [
              0.8888888888888888,
              "#fdca26"
             ],
             [
              1,
              "#f0f921"
             ]
            ],
            "type": "heatmapgl"
           }
          ],
          "histogram": [
           {
            "marker": {
             "pattern": {
              "fillmode": "overlay",
              "size": 10,
              "solidity": 0.2
             }
            },
            "type": "histogram"
           }
          ],
          "histogram2d": [
           {
            "colorbar": {
             "outlinewidth": 0,
             "ticks": ""
            },
            "colorscale": [
             [
              0,
              "#0d0887"
             ],
             [
              0.1111111111111111,
              "#46039f"
             ],
             [
              0.2222222222222222,
              "#7201a8"
             ],
             [
              0.3333333333333333,
              "#9c179e"
             ],
             [
              0.4444444444444444,
              "#bd3786"
             ],
             [
              0.5555555555555556,
              "#d8576b"
             ],
             [
              0.6666666666666666,
              "#ed7953"
             ],
             [
              0.7777777777777778,
              "#fb9f3a"
             ],
             [
              0.8888888888888888,
              "#fdca26"
             ],
             [
              1,
              "#f0f921"
             ]
            ],
            "type": "histogram2d"
           }
          ],
          "histogram2dcontour": [
           {
            "colorbar": {
             "outlinewidth": 0,
             "ticks": ""
            },
            "colorscale": [
             [
              0,
              "#0d0887"
             ],
             [
              0.1111111111111111,
              "#46039f"
             ],
             [
              0.2222222222222222,
              "#7201a8"
             ],
             [
              0.3333333333333333,
              "#9c179e"
             ],
             [
              0.4444444444444444,
              "#bd3786"
             ],
             [
              0.5555555555555556,
              "#d8576b"
             ],
             [
              0.6666666666666666,
              "#ed7953"
             ],
             [
              0.7777777777777778,
              "#fb9f3a"
             ],
             [
              0.8888888888888888,
              "#fdca26"
             ],
             [
              1,
              "#f0f921"
             ]
            ],
            "type": "histogram2dcontour"
           }
          ],
          "mesh3d": [
           {
            "colorbar": {
             "outlinewidth": 0,
             "ticks": ""
            },
            "type": "mesh3d"
           }
          ],
          "parcoords": [
           {
            "line": {
             "colorbar": {
              "outlinewidth": 0,
              "ticks": ""
             }
            },
            "type": "parcoords"
           }
          ],
          "pie": [
           {
            "automargin": true,
            "type": "pie"
           }
          ],
          "scatter": [
           {
            "marker": {
             "colorbar": {
              "outlinewidth": 0,
              "ticks": ""
             }
            },
            "type": "scatter"
           }
          ],
          "scatter3d": [
           {
            "line": {
             "colorbar": {
              "outlinewidth": 0,
              "ticks": ""
             }
            },
            "marker": {
             "colorbar": {
              "outlinewidth": 0,
              "ticks": ""
             }
            },
            "type": "scatter3d"
           }
          ],
          "scattercarpet": [
           {
            "marker": {
             "colorbar": {
              "outlinewidth": 0,
              "ticks": ""
             }
            },
            "type": "scattercarpet"
           }
          ],
          "scattergeo": [
           {
            "marker": {
             "colorbar": {
              "outlinewidth": 0,
              "ticks": ""
             }
            },
            "type": "scattergeo"
           }
          ],
          "scattergl": [
           {
            "marker": {
             "colorbar": {
              "outlinewidth": 0,
              "ticks": ""
             }
            },
            "type": "scattergl"
           }
          ],
          "scattermapbox": [
           {
            "marker": {
             "colorbar": {
              "outlinewidth": 0,
              "ticks": ""
             }
            },
            "type": "scattermapbox"
           }
          ],
          "scatterpolar": [
           {
            "marker": {
             "colorbar": {
              "outlinewidth": 0,
              "ticks": ""
             }
            },
            "type": "scatterpolar"
           }
          ],
          "scatterpolargl": [
           {
            "marker": {
             "colorbar": {
              "outlinewidth": 0,
              "ticks": ""
             }
            },
            "type": "scatterpolargl"
           }
          ],
          "scatterternary": [
           {
            "marker": {
             "colorbar": {
              "outlinewidth": 0,
              "ticks": ""
             }
            },
            "type": "scatterternary"
           }
          ],
          "surface": [
           {
            "colorbar": {
             "outlinewidth": 0,
             "ticks": ""
            },
            "colorscale": [
             [
              0,
              "#0d0887"
             ],
             [
              0.1111111111111111,
              "#46039f"
             ],
             [
              0.2222222222222222,
              "#7201a8"
             ],
             [
              0.3333333333333333,
              "#9c179e"
             ],
             [
              0.4444444444444444,
              "#bd3786"
             ],
             [
              0.5555555555555556,
              "#d8576b"
             ],
             [
              0.6666666666666666,
              "#ed7953"
             ],
             [
              0.7777777777777778,
              "#fb9f3a"
             ],
             [
              0.8888888888888888,
              "#fdca26"
             ],
             [
              1,
              "#f0f921"
             ]
            ],
            "type": "surface"
           }
          ],
          "table": [
           {
            "cells": {
             "fill": {
              "color": "#EBF0F8"
             },
             "line": {
              "color": "white"
             }
            },
            "header": {
             "fill": {
              "color": "#C8D4E3"
             },
             "line": {
              "color": "white"
             }
            },
            "type": "table"
           }
          ]
         },
         "layout": {
          "annotationdefaults": {
           "arrowcolor": "#2a3f5f",
           "arrowhead": 0,
           "arrowwidth": 1
          },
          "autotypenumbers": "strict",
          "coloraxis": {
           "colorbar": {
            "outlinewidth": 0,
            "ticks": ""
           }
          },
          "colorscale": {
           "diverging": [
            [
             0,
             "#8e0152"
            ],
            [
             0.1,
             "#c51b7d"
            ],
            [
             0.2,
             "#de77ae"
            ],
            [
             0.3,
             "#f1b6da"
            ],
            [
             0.4,
             "#fde0ef"
            ],
            [
             0.5,
             "#f7f7f7"
            ],
            [
             0.6,
             "#e6f5d0"
            ],
            [
             0.7,
             "#b8e186"
            ],
            [
             0.8,
             "#7fbc41"
            ],
            [
             0.9,
             "#4d9221"
            ],
            [
             1,
             "#276419"
            ]
           ],
           "sequential": [
            [
             0,
             "#0d0887"
            ],
            [
             0.1111111111111111,
             "#46039f"
            ],
            [
             0.2222222222222222,
             "#7201a8"
            ],
            [
             0.3333333333333333,
             "#9c179e"
            ],
            [
             0.4444444444444444,
             "#bd3786"
            ],
            [
             0.5555555555555556,
             "#d8576b"
            ],
            [
             0.6666666666666666,
             "#ed7953"
            ],
            [
             0.7777777777777778,
             "#fb9f3a"
            ],
            [
             0.8888888888888888,
             "#fdca26"
            ],
            [
             1,
             "#f0f921"
            ]
           ],
           "sequentialminus": [
            [
             0,
             "#0d0887"
            ],
            [
             0.1111111111111111,
             "#46039f"
            ],
            [
             0.2222222222222222,
             "#7201a8"
            ],
            [
             0.3333333333333333,
             "#9c179e"
            ],
            [
             0.4444444444444444,
             "#bd3786"
            ],
            [
             0.5555555555555556,
             "#d8576b"
            ],
            [
             0.6666666666666666,
             "#ed7953"
            ],
            [
             0.7777777777777778,
             "#fb9f3a"
            ],
            [
             0.8888888888888888,
             "#fdca26"
            ],
            [
             1,
             "#f0f921"
            ]
           ]
          },
          "colorway": [
           "#636efa",
           "#EF553B",
           "#00cc96",
           "#ab63fa",
           "#FFA15A",
           "#19d3f3",
           "#FF6692",
           "#B6E880",
           "#FF97FF",
           "#FECB52"
          ],
          "font": {
           "color": "#2a3f5f"
          },
          "geo": {
           "bgcolor": "white",
           "lakecolor": "white",
           "landcolor": "#E5ECF6",
           "showlakes": true,
           "showland": true,
           "subunitcolor": "white"
          },
          "hoverlabel": {
           "align": "left"
          },
          "hovermode": "closest",
          "mapbox": {
           "style": "light"
          },
          "paper_bgcolor": "white",
          "plot_bgcolor": "#E5ECF6",
          "polar": {
           "angularaxis": {
            "gridcolor": "white",
            "linecolor": "white",
            "ticks": ""
           },
           "bgcolor": "#E5ECF6",
           "radialaxis": {
            "gridcolor": "white",
            "linecolor": "white",
            "ticks": ""
           }
          },
          "scene": {
           "xaxis": {
            "backgroundcolor": "#E5ECF6",
            "gridcolor": "white",
            "gridwidth": 2,
            "linecolor": "white",
            "showbackground": true,
            "ticks": "",
            "zerolinecolor": "white"
           },
           "yaxis": {
            "backgroundcolor": "#E5ECF6",
            "gridcolor": "white",
            "gridwidth": 2,
            "linecolor": "white",
            "showbackground": true,
            "ticks": "",
            "zerolinecolor": "white"
           },
           "zaxis": {
            "backgroundcolor": "#E5ECF6",
            "gridcolor": "white",
            "gridwidth": 2,
            "linecolor": "white",
            "showbackground": true,
            "ticks": "",
            "zerolinecolor": "white"
           }
          },
          "shapedefaults": {
           "line": {
            "color": "#2a3f5f"
           }
          },
          "ternary": {
           "aaxis": {
            "gridcolor": "white",
            "linecolor": "white",
            "ticks": ""
           },
           "baxis": {
            "gridcolor": "white",
            "linecolor": "white",
            "ticks": ""
           },
           "bgcolor": "#E5ECF6",
           "caxis": {
            "gridcolor": "white",
            "linecolor": "white",
            "ticks": ""
           }
          },
          "title": {
           "x": 0.05
          },
          "xaxis": {
           "automargin": true,
           "gridcolor": "white",
           "linecolor": "white",
           "ticks": "",
           "title": {
            "standoff": 15
           },
           "zerolinecolor": "white",
           "zerolinewidth": 2
          },
          "yaxis": {
           "automargin": true,
           "gridcolor": "white",
           "linecolor": "white",
           "ticks": "",
           "title": {
            "standoff": 15
           },
           "zerolinecolor": "white",
           "zerolinewidth": 2
          }
         }
        },
        "title": {
         "text": "No. Kroger Locations"
        }
       }
      },
      "text/html": [
       "<div>                            <div id=\"1ab93eec-0eb7-441f-9c3c-88e15c4c24de\" class=\"plotly-graph-div\" style=\"height:525px; width:100%;\"></div>            <script type=\"text/javascript\">                require([\"plotly\"], function(Plotly) {                    window.PLOTLYENV=window.PLOTLYENV || {};                                    if (document.getElementById(\"1ab93eec-0eb7-441f-9c3c-88e15c4c24de\")) {                    Plotly.newPlot(                        \"1ab93eec-0eb7-441f-9c3c-88e15c4c24de\",                        [{\"coloraxis\":\"coloraxis\",\"geo\":\"geo\",\"hovertemplate\":\"ids=%{location}<br>Number of stores=%{z}<extra></extra>\",\"locationmode\":\"USA-states\",\"locations\":[\"AL\",\"AR\",\"GA\",\"IL\",\"IN\",\"KY\",\"LA\",\"MI\",\"MO\",\"MS\",\"OH\",\"SC\",\"TN\",\"TX\",\"VA\",\"WV\"],\"name\":\"\",\"z\":[10,26,167,30,103,104,8,120,3,29,196,13,115,209,68,38],\"type\":\"choropleth\"}],                        {\"template\":{\"data\":{\"bar\":[{\"error_x\":{\"color\":\"#2a3f5f\"},\"error_y\":{\"color\":\"#2a3f5f\"},\"marker\":{\"line\":{\"color\":\"#E5ECF6\",\"width\":0.5},\"pattern\":{\"fillmode\":\"overlay\",\"size\":10,\"solidity\":0.2}},\"type\":\"bar\"}],\"barpolar\":[{\"marker\":{\"line\":{\"color\":\"#E5ECF6\",\"width\":0.5},\"pattern\":{\"fillmode\":\"overlay\",\"size\":10,\"solidity\":0.2}},\"type\":\"barpolar\"}],\"carpet\":[{\"aaxis\":{\"endlinecolor\":\"#2a3f5f\",\"gridcolor\":\"white\",\"linecolor\":\"white\",\"minorgridcolor\":\"white\",\"startlinecolor\":\"#2a3f5f\"},\"baxis\":{\"endlinecolor\":\"#2a3f5f\",\"gridcolor\":\"white\",\"linecolor\":\"white\",\"minorgridcolor\":\"white\",\"startlinecolor\":\"#2a3f5f\"},\"type\":\"carpet\"}],\"choropleth\":[{\"colorbar\":{\"outlinewidth\":0,\"ticks\":\"\"},\"type\":\"choropleth\"}],\"contour\":[{\"colorbar\":{\"outlinewidth\":0,\"ticks\":\"\"},\"colorscale\":[[0.0,\"#0d0887\"],[0.1111111111111111,\"#46039f\"],[0.2222222222222222,\"#7201a8\"],[0.3333333333333333,\"#9c179e\"],[0.4444444444444444,\"#bd3786\"],[0.5555555555555556,\"#d8576b\"],[0.6666666666666666,\"#ed7953\"],[0.7777777777777778,\"#fb9f3a\"],[0.8888888888888888,\"#fdca26\"],[1.0,\"#f0f921\"]],\"type\":\"contour\"}],\"contourcarpet\":[{\"colorbar\":{\"outlinewidth\":0,\"ticks\":\"\"},\"type\":\"contourcarpet\"}],\"heatmap\":[{\"colorbar\":{\"outlinewidth\":0,\"ticks\":\"\"},\"colorscale\":[[0.0,\"#0d0887\"],[0.1111111111111111,\"#46039f\"],[0.2222222222222222,\"#7201a8\"],[0.3333333333333333,\"#9c179e\"],[0.4444444444444444,\"#bd3786\"],[0.5555555555555556,\"#d8576b\"],[0.6666666666666666,\"#ed7953\"],[0.7777777777777778,\"#fb9f3a\"],[0.8888888888888888,\"#fdca26\"],[1.0,\"#f0f921\"]],\"type\":\"heatmap\"}],\"heatmapgl\":[{\"colorbar\":{\"outlinewidth\":0,\"ticks\":\"\"},\"colorscale\":[[0.0,\"#0d0887\"],[0.1111111111111111,\"#46039f\"],[0.2222222222222222,\"#7201a8\"],[0.3333333333333333,\"#9c179e\"],[0.4444444444444444,\"#bd3786\"],[0.5555555555555556,\"#d8576b\"],[0.6666666666666666,\"#ed7953\"],[0.7777777777777778,\"#fb9f3a\"],[0.8888888888888888,\"#fdca26\"],[1.0,\"#f0f921\"]],\"type\":\"heatmapgl\"}],\"histogram\":[{\"marker\":{\"pattern\":{\"fillmode\":\"overlay\",\"size\":10,\"solidity\":0.2}},\"type\":\"histogram\"}],\"histogram2d\":[{\"colorbar\":{\"outlinewidth\":0,\"ticks\":\"\"},\"colorscale\":[[0.0,\"#0d0887\"],[0.1111111111111111,\"#46039f\"],[0.2222222222222222,\"#7201a8\"],[0.3333333333333333,\"#9c179e\"],[0.4444444444444444,\"#bd3786\"],[0.5555555555555556,\"#d8576b\"],[0.6666666666666666,\"#ed7953\"],[0.7777777777777778,\"#fb9f3a\"],[0.8888888888888888,\"#fdca26\"],[1.0,\"#f0f921\"]],\"type\":\"histogram2d\"}],\"histogram2dcontour\":[{\"colorbar\":{\"outlinewidth\":0,\"ticks\":\"\"},\"colorscale\":[[0.0,\"#0d0887\"],[0.1111111111111111,\"#46039f\"],[0.2222222222222222,\"#7201a8\"],[0.3333333333333333,\"#9c179e\"],[0.4444444444444444,\"#bd3786\"],[0.5555555555555556,\"#d8576b\"],[0.6666666666666666,\"#ed7953\"],[0.7777777777777778,\"#fb9f3a\"],[0.8888888888888888,\"#fdca26\"],[1.0,\"#f0f921\"]],\"type\":\"histogram2dcontour\"}],\"mesh3d\":[{\"colorbar\":{\"outlinewidth\":0,\"ticks\":\"\"},\"type\":\"mesh3d\"}],\"parcoords\":[{\"line\":{\"colorbar\":{\"outlinewidth\":0,\"ticks\":\"\"}},\"type\":\"parcoords\"}],\"pie\":[{\"automargin\":true,\"type\":\"pie\"}],\"scatter\":[{\"marker\":{\"colorbar\":{\"outlinewidth\":0,\"ticks\":\"\"}},\"type\":\"scatter\"}],\"scatter3d\":[{\"line\":{\"colorbar\":{\"outlinewidth\":0,\"ticks\":\"\"}},\"marker\":{\"colorbar\":{\"outlinewidth\":0,\"ticks\":\"\"}},\"type\":\"scatter3d\"}],\"scattercarpet\":[{\"marker\":{\"colorbar\":{\"outlinewidth\":0,\"ticks\":\"\"}},\"type\":\"scattercarpet\"}],\"scattergeo\":[{\"marker\":{\"colorbar\":{\"outlinewidth\":0,\"ticks\":\"\"}},\"type\":\"scattergeo\"}],\"scattergl\":[{\"marker\":{\"colorbar\":{\"outlinewidth\":0,\"ticks\":\"\"}},\"type\":\"scattergl\"}],\"scattermapbox\":[{\"marker\":{\"colorbar\":{\"outlinewidth\":0,\"ticks\":\"\"}},\"type\":\"scattermapbox\"}],\"scatterpolar\":[{\"marker\":{\"colorbar\":{\"outlinewidth\":0,\"ticks\":\"\"}},\"type\":\"scatterpolar\"}],\"scatterpolargl\":[{\"marker\":{\"colorbar\":{\"outlinewidth\":0,\"ticks\":\"\"}},\"type\":\"scatterpolargl\"}],\"scatterternary\":[{\"marker\":{\"colorbar\":{\"outlinewidth\":0,\"ticks\":\"\"}},\"type\":\"scatterternary\"}],\"surface\":[{\"colorbar\":{\"outlinewidth\":0,\"ticks\":\"\"},\"colorscale\":[[0.0,\"#0d0887\"],[0.1111111111111111,\"#46039f\"],[0.2222222222222222,\"#7201a8\"],[0.3333333333333333,\"#9c179e\"],[0.4444444444444444,\"#bd3786\"],[0.5555555555555556,\"#d8576b\"],[0.6666666666666666,\"#ed7953\"],[0.7777777777777778,\"#fb9f3a\"],[0.8888888888888888,\"#fdca26\"],[1.0,\"#f0f921\"]],\"type\":\"surface\"}],\"table\":[{\"cells\":{\"fill\":{\"color\":\"#EBF0F8\"},\"line\":{\"color\":\"white\"}},\"header\":{\"fill\":{\"color\":\"#C8D4E3\"},\"line\":{\"color\":\"white\"}},\"type\":\"table\"}]},\"layout\":{\"annotationdefaults\":{\"arrowcolor\":\"#2a3f5f\",\"arrowhead\":0,\"arrowwidth\":1},\"autotypenumbers\":\"strict\",\"coloraxis\":{\"colorbar\":{\"outlinewidth\":0,\"ticks\":\"\"}},\"colorscale\":{\"diverging\":[[0,\"#8e0152\"],[0.1,\"#c51b7d\"],[0.2,\"#de77ae\"],[0.3,\"#f1b6da\"],[0.4,\"#fde0ef\"],[0.5,\"#f7f7f7\"],[0.6,\"#e6f5d0\"],[0.7,\"#b8e186\"],[0.8,\"#7fbc41\"],[0.9,\"#4d9221\"],[1,\"#276419\"]],\"sequential\":[[0.0,\"#0d0887\"],[0.1111111111111111,\"#46039f\"],[0.2222222222222222,\"#7201a8\"],[0.3333333333333333,\"#9c179e\"],[0.4444444444444444,\"#bd3786\"],[0.5555555555555556,\"#d8576b\"],[0.6666666666666666,\"#ed7953\"],[0.7777777777777778,\"#fb9f3a\"],[0.8888888888888888,\"#fdca26\"],[1.0,\"#f0f921\"]],\"sequentialminus\":[[0.0,\"#0d0887\"],[0.1111111111111111,\"#46039f\"],[0.2222222222222222,\"#7201a8\"],[0.3333333333333333,\"#9c179e\"],[0.4444444444444444,\"#bd3786\"],[0.5555555555555556,\"#d8576b\"],[0.6666666666666666,\"#ed7953\"],[0.7777777777777778,\"#fb9f3a\"],[0.8888888888888888,\"#fdca26\"],[1.0,\"#f0f921\"]]},\"colorway\":[\"#636efa\",\"#EF553B\",\"#00cc96\",\"#ab63fa\",\"#FFA15A\",\"#19d3f3\",\"#FF6692\",\"#B6E880\",\"#FF97FF\",\"#FECB52\"],\"font\":{\"color\":\"#2a3f5f\"},\"geo\":{\"bgcolor\":\"white\",\"lakecolor\":\"white\",\"landcolor\":\"#E5ECF6\",\"showlakes\":true,\"showland\":true,\"subunitcolor\":\"white\"},\"hoverlabel\":{\"align\":\"left\"},\"hovermode\":\"closest\",\"mapbox\":{\"style\":\"light\"},\"paper_bgcolor\":\"white\",\"plot_bgcolor\":\"#E5ECF6\",\"polar\":{\"angularaxis\":{\"gridcolor\":\"white\",\"linecolor\":\"white\",\"ticks\":\"\"},\"bgcolor\":\"#E5ECF6\",\"radialaxis\":{\"gridcolor\":\"white\",\"linecolor\":\"white\",\"ticks\":\"\"}},\"scene\":{\"xaxis\":{\"backgroundcolor\":\"#E5ECF6\",\"gridcolor\":\"white\",\"gridwidth\":2,\"linecolor\":\"white\",\"showbackground\":true,\"ticks\":\"\",\"zerolinecolor\":\"white\"},\"yaxis\":{\"backgroundcolor\":\"#E5ECF6\",\"gridcolor\":\"white\",\"gridwidth\":2,\"linecolor\":\"white\",\"showbackground\":true,\"ticks\":\"\",\"zerolinecolor\":\"white\"},\"zaxis\":{\"backgroundcolor\":\"#E5ECF6\",\"gridcolor\":\"white\",\"gridwidth\":2,\"linecolor\":\"white\",\"showbackground\":true,\"ticks\":\"\",\"zerolinecolor\":\"white\"}},\"shapedefaults\":{\"line\":{\"color\":\"#2a3f5f\"}},\"ternary\":{\"aaxis\":{\"gridcolor\":\"white\",\"linecolor\":\"white\",\"ticks\":\"\"},\"baxis\":{\"gridcolor\":\"white\",\"linecolor\":\"white\",\"ticks\":\"\"},\"bgcolor\":\"#E5ECF6\",\"caxis\":{\"gridcolor\":\"white\",\"linecolor\":\"white\",\"ticks\":\"\"}},\"title\":{\"x\":0.05},\"xaxis\":{\"automargin\":true,\"gridcolor\":\"white\",\"linecolor\":\"white\",\"ticks\":\"\",\"title\":{\"standoff\":15},\"zerolinecolor\":\"white\",\"zerolinewidth\":2},\"yaxis\":{\"automargin\":true,\"gridcolor\":\"white\",\"linecolor\":\"white\",\"ticks\":\"\",\"title\":{\"standoff\":15},\"zerolinecolor\":\"white\",\"zerolinewidth\":2}}},\"geo\":{\"domain\":{\"x\":[0.0,1.0],\"y\":[0.0,1.0]},\"center\":{},\"scope\":\"usa\"},\"coloraxis\":{\"colorbar\":{\"title\":{\"text\":\"Number of stores\"}},\"colorscale\":[[0.0,\"#0d0887\"],[0.1111111111111111,\"#46039f\"],[0.2222222222222222,\"#7201a8\"],[0.3333333333333333,\"#9c179e\"],[0.4444444444444444,\"#bd3786\"],[0.5555555555555556,\"#d8576b\"],[0.6666666666666666,\"#ed7953\"],[0.7777777777777778,\"#fb9f3a\"],[0.8888888888888888,\"#fdca26\"],[1.0,\"#f0f921\"]]},\"legend\":{\"tracegroupgap\":0},\"title\":{\"text\":\"No. Kroger Locations\"}},                        {\"responsive\": true}                    ).then(function(){\n",
       "                            \n",
       "var gd = document.getElementById('1ab93eec-0eb7-441f-9c3c-88e15c4c24de');\n",
       "var x = new MutationObserver(function (mutations, observer) {{\n",
       "        var display = window.getComputedStyle(gd).display;\n",
       "        if (!display || display === 'none') {{\n",
       "            console.log([gd, 'removed!']);\n",
       "            Plotly.purge(gd);\n",
       "            observer.disconnect();\n",
       "        }}\n",
       "}});\n",
       "\n",
       "// Listen for the removal of the full notebook cells\n",
       "var notebookContainer = gd.closest('#notebook-container');\n",
       "if (notebookContainer) {{\n",
       "    x.observe(notebookContainer, {childList: true});\n",
       "}}\n",
       "\n",
       "// Listen for the clearing of the current output cell\n",
       "var outputEl = gd.closest('.output');\n",
       "if (outputEl) {{\n",
       "    x.observe(outputEl, {childList: true});\n",
       "}}\n",
       "\n",
       "                        })                };                });            </script>        </div>"
      ]
     },
     "metadata": {},
     "output_type": "display_data"
    }
   ],
   "source": [
    "fig = px.choropleth(kro, locations=\"ids\",locationmode=\"USA-states\", scope=\"usa\",\n",
    "                    color=\"Number of stores\",color_continuous_scale=\"plasma\",\n",
    "                   title=\"No. Kroger Locations\")\n",
    "\n",
    "fig.show()"
   ]
  },
  {
   "cell_type": "markdown",
   "id": "5e0ef9ac",
   "metadata": {},
   "source": [
    "We found that Kroger likely used the acquisition to expand their reach into the western United States."
   ]
  },
  {
   "cell_type": "markdown",
   "id": "4c834f5e",
   "metadata": {},
   "source": [
    "The following is a data frame we created from company balance sheets. They have quartly revenues from 2018 onwards. "
   ]
  },
  {
   "cell_type": "code",
   "execution_count": 17,
   "id": "e619b1f3",
   "metadata": {},
   "outputs": [
    {
     "data": {
      "text/html": [
       "<div>\n",
       "<style scoped>\n",
       "    .dataframe tbody tr th:only-of-type {\n",
       "        vertical-align: middle;\n",
       "    }\n",
       "\n",
       "    .dataframe tbody tr th {\n",
       "        vertical-align: top;\n",
       "    }\n",
       "\n",
       "    .dataframe thead th {\n",
       "        text-align: right;\n",
       "    }\n",
       "</style>\n",
       "<table border=\"1\" class=\"dataframe\">\n",
       "  <thead>\n",
       "    <tr style=\"text-align: right;\">\n",
       "      <th></th>\n",
       "      <th>Revenue</th>\n",
       "      <th>Kroger</th>\n",
       "      <th>Albertsons</th>\n",
       "      <th>Walmart</th>\n",
       "      <th>Costco</th>\n",
       "    </tr>\n",
       "  </thead>\n",
       "  <tbody>\n",
       "    <tr>\n",
       "      <th>0</th>\n",
       "      <td>(Millions of US $)</td>\n",
       "      <td>NaN</td>\n",
       "      <td>NaN</td>\n",
       "      <td>NaN</td>\n",
       "      <td>NaN</td>\n",
       "    </tr>\n",
       "    <tr>\n",
       "      <th>1</th>\n",
       "      <td>2018 Q1</td>\n",
       "      <td>31649.0</td>\n",
       "      <td>NaN</td>\n",
       "      <td>136267.0</td>\n",
       "      <td>32995.0</td>\n",
       "    </tr>\n",
       "    <tr>\n",
       "      <th>2</th>\n",
       "      <td>2018 Q2</td>\n",
       "      <td>37722.0</td>\n",
       "      <td>NaN</td>\n",
       "      <td>122690.0</td>\n",
       "      <td>32361.0</td>\n",
       "    </tr>\n",
       "    <tr>\n",
       "      <th>3</th>\n",
       "      <td>2018 Q3</td>\n",
       "      <td>28014.0</td>\n",
       "      <td>NaN</td>\n",
       "      <td>128028.0</td>\n",
       "      <td>44411.0</td>\n",
       "    </tr>\n",
       "    <tr>\n",
       "      <th>4</th>\n",
       "      <td>2018 Q4</td>\n",
       "      <td>27831.0</td>\n",
       "      <td>NaN</td>\n",
       "      <td>124894.0</td>\n",
       "      <td>35069.0</td>\n",
       "    </tr>\n",
       "    <tr>\n",
       "      <th>5</th>\n",
       "      <td>2019 Q1</td>\n",
       "      <td>28285.0</td>\n",
       "      <td>NaN</td>\n",
       "      <td>138793.0</td>\n",
       "      <td>35396.0</td>\n",
       "    </tr>\n",
       "    <tr>\n",
       "      <th>6</th>\n",
       "      <td>2019 Q2</td>\n",
       "      <td>37251.0</td>\n",
       "      <td>18738.0</td>\n",
       "      <td>123925.0</td>\n",
       "      <td>34740.0</td>\n",
       "    </tr>\n",
       "    <tr>\n",
       "      <th>7</th>\n",
       "      <td>2019 Q3</td>\n",
       "      <td>28168.0</td>\n",
       "      <td>14177.0</td>\n",
       "      <td>130377.0</td>\n",
       "      <td>47498.0</td>\n",
       "    </tr>\n",
       "    <tr>\n",
       "      <th>8</th>\n",
       "      <td>2019 Q4</td>\n",
       "      <td>27974.0</td>\n",
       "      <td>14103.0</td>\n",
       "      <td>127991.0</td>\n",
       "      <td>37040.0</td>\n",
       "    </tr>\n",
       "    <tr>\n",
       "      <th>9</th>\n",
       "      <td>2020 Q1</td>\n",
       "      <td>28893.0</td>\n",
       "      <td>15437.0</td>\n",
       "      <td>141671.0</td>\n",
       "      <td>39072.0</td>\n",
       "    </tr>\n",
       "    <tr>\n",
       "      <th>10</th>\n",
       "      <td>2020 Q2</td>\n",
       "      <td>41549.0</td>\n",
       "      <td>22752.0</td>\n",
       "      <td>134622.0</td>\n",
       "      <td>37266.0</td>\n",
       "    </tr>\n",
       "    <tr>\n",
       "      <th>11</th>\n",
       "      <td>2020 Q3</td>\n",
       "      <td>30489.0</td>\n",
       "      <td>15758.0</td>\n",
       "      <td>137742.0</td>\n",
       "      <td>53383.0</td>\n",
       "    </tr>\n",
       "    <tr>\n",
       "      <th>12</th>\n",
       "      <td>2020 Q4</td>\n",
       "      <td>29723.0</td>\n",
       "      <td>15409.0</td>\n",
       "      <td>134708.0</td>\n",
       "      <td>43208.0</td>\n",
       "    </tr>\n",
       "    <tr>\n",
       "      <th>13</th>\n",
       "      <td>2021 Q1</td>\n",
       "      <td>30737.0</td>\n",
       "      <td>15772.0</td>\n",
       "      <td>152079.0</td>\n",
       "      <td>44769.0</td>\n",
       "    </tr>\n",
       "    <tr>\n",
       "      <th>14</th>\n",
       "      <td>2021 Q2</td>\n",
       "      <td>41298.0</td>\n",
       "      <td>21269.0</td>\n",
       "      <td>138310.0</td>\n",
       "      <td>45277.0</td>\n",
       "    </tr>\n",
       "    <tr>\n",
       "      <th>15</th>\n",
       "      <td>2021 Q3</td>\n",
       "      <td>31682.0</td>\n",
       "      <td>16506.0</td>\n",
       "      <td>141048.0</td>\n",
       "      <td>62675.0</td>\n",
       "    </tr>\n",
       "    <tr>\n",
       "      <th>16</th>\n",
       "      <td>2021 Q4</td>\n",
       "      <td>31860.0</td>\n",
       "      <td>16728.0</td>\n",
       "      <td>140525.0</td>\n",
       "      <td>50363.0</td>\n",
       "    </tr>\n",
       "    <tr>\n",
       "      <th>17</th>\n",
       "      <td>2022 Q1</td>\n",
       "      <td>33048.0</td>\n",
       "      <td>17384.0</td>\n",
       "      <td>152871.0</td>\n",
       "      <td>51904.0</td>\n",
       "    </tr>\n",
       "    <tr>\n",
       "      <th>18</th>\n",
       "      <td>2022 Q2</td>\n",
       "      <td>44600.0</td>\n",
       "      <td>23310.0</td>\n",
       "      <td>141569.0</td>\n",
       "      <td>52596.0</td>\n",
       "    </tr>\n",
       "    <tr>\n",
       "      <th>19</th>\n",
       "      <td>2022 Q3</td>\n",
       "      <td>34638.0</td>\n",
       "      <td>17919.0</td>\n",
       "      <td>152859.0</td>\n",
       "      <td>72091.0</td>\n",
       "    </tr>\n",
       "  </tbody>\n",
       "</table>\n",
       "</div>"
      ],
      "text/plain": [
       "               Revenue   Kroger  Albertsons   Walmart   Costco\n",
       "0   (Millions of US $)      NaN         NaN       NaN      NaN\n",
       "1              2018 Q1  31649.0         NaN  136267.0  32995.0\n",
       "2              2018 Q2  37722.0         NaN  122690.0  32361.0\n",
       "3              2018 Q3  28014.0         NaN  128028.0  44411.0\n",
       "4              2018 Q4  27831.0         NaN  124894.0  35069.0\n",
       "5              2019 Q1  28285.0         NaN  138793.0  35396.0\n",
       "6              2019 Q2  37251.0     18738.0  123925.0  34740.0\n",
       "7              2019 Q3  28168.0     14177.0  130377.0  47498.0\n",
       "8              2019 Q4  27974.0     14103.0  127991.0  37040.0\n",
       "9              2020 Q1  28893.0     15437.0  141671.0  39072.0\n",
       "10             2020 Q2  41549.0     22752.0  134622.0  37266.0\n",
       "11             2020 Q3  30489.0     15758.0  137742.0  53383.0\n",
       "12             2020 Q4  29723.0     15409.0  134708.0  43208.0\n",
       "13             2021 Q1  30737.0     15772.0  152079.0  44769.0\n",
       "14             2021 Q2  41298.0     21269.0  138310.0  45277.0\n",
       "15             2021 Q3  31682.0     16506.0  141048.0  62675.0\n",
       "16             2021 Q4  31860.0     16728.0  140525.0  50363.0\n",
       "17             2022 Q1  33048.0     17384.0  152871.0  51904.0\n",
       "18             2022 Q2  44600.0     23310.0  141569.0  52596.0\n",
       "19             2022 Q3  34638.0     17919.0  152859.0  72091.0"
      ]
     },
     "execution_count": 17,
     "metadata": {},
     "output_type": "execute_result"
    }
   ],
   "source": [
    "reven = pd.read_excel('172- revenue.xlsx')\n",
    "reven"
   ]
  },
  {
   "cell_type": "markdown",
   "id": "df03ca8a",
   "metadata": {},
   "source": [
    "We needed to clean the reven data frame generated earlier. Therefore, we set the quarters to be the index and deleted the first row. The first row did not have relevent data. This was accomplished using the .set_index() method and .iloc method."
   ]
  },
  {
   "cell_type": "code",
   "execution_count": 31,
   "id": "a5656990",
   "metadata": {},
   "outputs": [
    {
     "data": {
      "text/html": [
       "<div>\n",
       "<style scoped>\n",
       "    .dataframe tbody tr th:only-of-type {\n",
       "        vertical-align: middle;\n",
       "    }\n",
       "\n",
       "    .dataframe tbody tr th {\n",
       "        vertical-align: top;\n",
       "    }\n",
       "\n",
       "    .dataframe thead th {\n",
       "        text-align: right;\n",
       "    }\n",
       "</style>\n",
       "<table border=\"1\" class=\"dataframe\">\n",
       "  <thead>\n",
       "    <tr style=\"text-align: right;\">\n",
       "      <th></th>\n",
       "      <th>Kroger</th>\n",
       "      <th>Albertsons</th>\n",
       "      <th>Walmart</th>\n",
       "      <th>Costco</th>\n",
       "    </tr>\n",
       "    <tr>\n",
       "      <th>Revenue</th>\n",
       "      <th></th>\n",
       "      <th></th>\n",
       "      <th></th>\n",
       "      <th></th>\n",
       "    </tr>\n",
       "  </thead>\n",
       "  <tbody>\n",
       "    <tr>\n",
       "      <th>2018 Q1</th>\n",
       "      <td>31649.0</td>\n",
       "      <td>NaN</td>\n",
       "      <td>136267.0</td>\n",
       "      <td>32995.0</td>\n",
       "    </tr>\n",
       "    <tr>\n",
       "      <th>2018 Q2</th>\n",
       "      <td>37722.0</td>\n",
       "      <td>NaN</td>\n",
       "      <td>122690.0</td>\n",
       "      <td>32361.0</td>\n",
       "    </tr>\n",
       "    <tr>\n",
       "      <th>2018 Q3</th>\n",
       "      <td>28014.0</td>\n",
       "      <td>NaN</td>\n",
       "      <td>128028.0</td>\n",
       "      <td>44411.0</td>\n",
       "    </tr>\n",
       "    <tr>\n",
       "      <th>2018 Q4</th>\n",
       "      <td>27831.0</td>\n",
       "      <td>NaN</td>\n",
       "      <td>124894.0</td>\n",
       "      <td>35069.0</td>\n",
       "    </tr>\n",
       "    <tr>\n",
       "      <th>2019 Q1</th>\n",
       "      <td>28285.0</td>\n",
       "      <td>NaN</td>\n",
       "      <td>138793.0</td>\n",
       "      <td>35396.0</td>\n",
       "    </tr>\n",
       "    <tr>\n",
       "      <th>2019 Q2</th>\n",
       "      <td>37251.0</td>\n",
       "      <td>18738.0</td>\n",
       "      <td>123925.0</td>\n",
       "      <td>34740.0</td>\n",
       "    </tr>\n",
       "    <tr>\n",
       "      <th>2019 Q3</th>\n",
       "      <td>28168.0</td>\n",
       "      <td>14177.0</td>\n",
       "      <td>130377.0</td>\n",
       "      <td>47498.0</td>\n",
       "    </tr>\n",
       "    <tr>\n",
       "      <th>2019 Q4</th>\n",
       "      <td>27974.0</td>\n",
       "      <td>14103.0</td>\n",
       "      <td>127991.0</td>\n",
       "      <td>37040.0</td>\n",
       "    </tr>\n",
       "    <tr>\n",
       "      <th>2020 Q1</th>\n",
       "      <td>28893.0</td>\n",
       "      <td>15437.0</td>\n",
       "      <td>141671.0</td>\n",
       "      <td>39072.0</td>\n",
       "    </tr>\n",
       "    <tr>\n",
       "      <th>2020 Q2</th>\n",
       "      <td>41549.0</td>\n",
       "      <td>22752.0</td>\n",
       "      <td>134622.0</td>\n",
       "      <td>37266.0</td>\n",
       "    </tr>\n",
       "    <tr>\n",
       "      <th>2020 Q3</th>\n",
       "      <td>30489.0</td>\n",
       "      <td>15758.0</td>\n",
       "      <td>137742.0</td>\n",
       "      <td>53383.0</td>\n",
       "    </tr>\n",
       "    <tr>\n",
       "      <th>2020 Q4</th>\n",
       "      <td>29723.0</td>\n",
       "      <td>15409.0</td>\n",
       "      <td>134708.0</td>\n",
       "      <td>43208.0</td>\n",
       "    </tr>\n",
       "    <tr>\n",
       "      <th>2021 Q1</th>\n",
       "      <td>30737.0</td>\n",
       "      <td>15772.0</td>\n",
       "      <td>152079.0</td>\n",
       "      <td>44769.0</td>\n",
       "    </tr>\n",
       "    <tr>\n",
       "      <th>2021 Q2</th>\n",
       "      <td>41298.0</td>\n",
       "      <td>21269.0</td>\n",
       "      <td>138310.0</td>\n",
       "      <td>45277.0</td>\n",
       "    </tr>\n",
       "    <tr>\n",
       "      <th>2021 Q3</th>\n",
       "      <td>31682.0</td>\n",
       "      <td>16506.0</td>\n",
       "      <td>141048.0</td>\n",
       "      <td>62675.0</td>\n",
       "    </tr>\n",
       "    <tr>\n",
       "      <th>2021 Q4</th>\n",
       "      <td>31860.0</td>\n",
       "      <td>16728.0</td>\n",
       "      <td>140525.0</td>\n",
       "      <td>50363.0</td>\n",
       "    </tr>\n",
       "    <tr>\n",
       "      <th>2022 Q1</th>\n",
       "      <td>33048.0</td>\n",
       "      <td>17384.0</td>\n",
       "      <td>152871.0</td>\n",
       "      <td>51904.0</td>\n",
       "    </tr>\n",
       "    <tr>\n",
       "      <th>2022 Q2</th>\n",
       "      <td>44600.0</td>\n",
       "      <td>23310.0</td>\n",
       "      <td>141569.0</td>\n",
       "      <td>52596.0</td>\n",
       "    </tr>\n",
       "    <tr>\n",
       "      <th>2022 Q3</th>\n",
       "      <td>34638.0</td>\n",
       "      <td>17919.0</td>\n",
       "      <td>152859.0</td>\n",
       "      <td>72091.0</td>\n",
       "    </tr>\n",
       "  </tbody>\n",
       "</table>\n",
       "</div>"
      ],
      "text/plain": [
       "          Kroger  Albertsons   Walmart   Costco\n",
       "Revenue                                        \n",
       "2018 Q1  31649.0         NaN  136267.0  32995.0\n",
       "2018 Q2  37722.0         NaN  122690.0  32361.0\n",
       "2018 Q3  28014.0         NaN  128028.0  44411.0\n",
       "2018 Q4  27831.0         NaN  124894.0  35069.0\n",
       "2019 Q1  28285.0         NaN  138793.0  35396.0\n",
       "2019 Q2  37251.0     18738.0  123925.0  34740.0\n",
       "2019 Q3  28168.0     14177.0  130377.0  47498.0\n",
       "2019 Q4  27974.0     14103.0  127991.0  37040.0\n",
       "2020 Q1  28893.0     15437.0  141671.0  39072.0\n",
       "2020 Q2  41549.0     22752.0  134622.0  37266.0\n",
       "2020 Q3  30489.0     15758.0  137742.0  53383.0\n",
       "2020 Q4  29723.0     15409.0  134708.0  43208.0\n",
       "2021 Q1  30737.0     15772.0  152079.0  44769.0\n",
       "2021 Q2  41298.0     21269.0  138310.0  45277.0\n",
       "2021 Q3  31682.0     16506.0  141048.0  62675.0\n",
       "2021 Q4  31860.0     16728.0  140525.0  50363.0\n",
       "2022 Q1  33048.0     17384.0  152871.0  51904.0\n",
       "2022 Q2  44600.0     23310.0  141569.0  52596.0\n",
       "2022 Q3  34638.0     17919.0  152859.0  72091.0"
      ]
     },
     "execution_count": 31,
     "metadata": {},
     "output_type": "execute_result"
    }
   ],
   "source": [
    "reven\n",
    "reven = reven.set_index(\"Revenue\")\n",
    "reven = reven.iloc[1: , :]\n",
    "reven"
   ]
  },
  {
   "cell_type": "markdown",
   "id": "b13e4da3",
   "metadata": {},
   "source": [
    "The following plots where created by creating new data frames with only a column of interest using the .loc function. The plots show quarterly revenues."
   ]
  },
  {
   "cell_type": "code",
   "execution_count": 49,
   "id": "0c46b34b",
   "metadata": {},
   "outputs": [
    {
     "data": {
      "text/plain": [
       "Text(0, 0.5, 'Revenue')"
      ]
     },
     "execution_count": 49,
     "metadata": {},
     "output_type": "execute_result"
    },
    {
     "data": {
      "image/png": "[encoded data removed]",
      "text/plain": [
       "<Figure size 720x360 with 1 Axes>"
      ]
     },
     "metadata": {
      "needs_background": "light"
     },
     "output_type": "display_data"
    }
   ],
   "source": [
    "kroger = reven.loc[:,\"Kroger\"]\n",
    "k = kroger.plot(figsize=(10,5),title=\"Kroger Revenue Quarterly\",)\n",
    "k.set_xlabel(\"Quarters\")\n",
    "k.set_ylabel(\"Revenue\")"
   ]
  },
  {
   "cell_type": "code",
   "execution_count": 51,
   "id": "09f540a4",
   "metadata": {},
   "outputs": [
    {
     "data": {
      "text/plain": [
       "Text(0, 0.5, 'Revenue')"
      ]
     },
     "execution_count": 51,
     "metadata": {},
     "output_type": "execute_result"
    },
    {
     "data": {
      "image/png": "[encoded data removed]",
      "text/plain": [
       "<Figure size 720x360 with 1 Axes>"
      ]
     },
     "metadata": {
      "needs_background": "light"
     },
     "output_type": "display_data"
    }
   ],
   "source": [
    "albert = reven.loc[:,\"Albertsons\"]\n",
    "a=albert.plot(figsize=(10,5),title=\"Albertsons Revenue Quarterly\")\n",
    "a.set_xlabel(\"Quarters\")\n",
    "a.set_ylabel(\"Revenue\")"
   ]
  },
  {
   "cell_type": "code",
   "execution_count": 52,
   "id": "20a9a693",
   "metadata": {},
   "outputs": [
    {
     "data": {
      "text/plain": [
       "Text(0, 0.5, 'Revenue')"
      ]
     },
     "execution_count": 52,
     "metadata": {},
     "output_type": "execute_result"
    },
    {
     "data": {
      "image/png": "[encoded data removed]",
      "text/plain": [
       "<Figure size 720x360 with 1 Axes>"
      ]
     },
     "metadata": {
      "needs_background": "light"
     },
     "output_type": "display_data"
    }
   ],
   "source": [
    "walt = reven.loc[:,\"Walmart\"]\n",
    "w=walt.plot(figsize=(10,5),title=\"Walmart Revenue Quarterly\")\n",
    "w.set_xlabel(\"Quarters\")\n",
    "w.set_ylabel(\"Revenue\")"
   ]
  },
  {
   "cell_type": "code",
   "execution_count": 53,
   "id": "57e574fe",
   "metadata": {},
   "outputs": [
    {
     "data": {
      "text/plain": [
       "Text(0, 0.5, 'Revenue')"
      ]
     },
     "execution_count": 53,
     "metadata": {},
     "output_type": "execute_result"
    },
    {
     "data": {
      "image/png": "[encoded data removed]",
      "text/plain": [
       "<Figure size 720x360 with 1 Axes>"
      ]
     },
     "metadata": {
      "needs_background": "light"
     },
     "output_type": "display_data"
    }
   ],
   "source": [
    "cost = reven.loc[:,\"Costco\"]\n",
    "c=cost.plot(figsize=(10,5),title=\"Costco Revenue Quarterly\")\n",
    "c.set_xlabel(\"Quarters\")\n",
    "c.set_ylabel(\"Revenue\")"
   ]
  },
  {
   "cell_type": "markdown",
   "id": "5c79160b",
   "metadata": {},
   "source": [
    "We found the peakyness of the data to be very interesting. Additionally, all of the companies show a general upward trend. Therefore, Kroger might have purchased Albertsons to boost revenues. However, Kroger might struggle to remain profitable against major competitors such as Walmart and Costco."
   ]
  }
 ],
 "metadata": {
  "kernelspec": {
   "display_name": "Python 3 (ipykernel)",
   "language": "python",
   "name": "python3"
  },
  "language_info": {
   "codemirror_mode": {
    "name": "ipython",
    "version": 3
   },
   "file_extension": ".py",
   "mimetype": "text/x-python",
   "name": "python",
   "nbconvert_exporter": "python",
   "pygments_lexer": "ipython3",
   "version": "3.9.12"
  }
 },
 "nbformat": 4,
 "nbformat_minor": 5
}
